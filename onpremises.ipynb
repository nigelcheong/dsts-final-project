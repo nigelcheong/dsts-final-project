{
 "cells": [
  {
   "cell_type": "markdown",
   "metadata": {},
   "source": [
    "# Problem: Predicting Airplane Delays\n",
    "\n",
    "The goals of this notebook are:\n",
    "- Process and create a dataset from downloaded ZIP files\n",
    "- Exploratory data analysis (EDA)\n",
    "- Establish a baseline model and improve it\n",
    "\n",
    "## Introduction to business scenario\n",
    "You work for a travel booking website that is working to improve the customer experience for flights that were delayed. The company wants to create a feature to let customers know if the flight will be delayed due to weather when the customers are booking the flight to or from the busiest airports for domestic travel in the US. \n",
    "\n",
    "You are tasked with solving part of this problem by leveraging machine learning to identify whether the flight will be delayed due to weather. You have been given access to the a dataset of on-time performance of domestic flights operated by large air carriers. You can use this data to train a machine learning model to predict if the flight is going to be delayed for the busiest airports.\n",
    "\n",
    "### Dataset\n",
    "The provided dataset contains scheduled and actual departure and arrival times reported by certified US air carriers that account for at least 1 percent of domestic scheduled passenger revenues. The data was collected by the Office of Airline Information, Bureau of Transportation Statistics (BTS). The dataset contains date, time, origin, destination, airline, distance, and delay status of flights for flights between 2014 and 2018.\n",
    "The data are in 60 compressed files, where each file contains a CSV for the flight details in a month for the five years (from 2014 - 2018). The data can be downloaded from this [link](https://ucstaff-my.sharepoint.com/:f:/g/personal/ibrahim_radwan_canberra_edu_au/EhWeqeQsh-9Mr1fneZc9_0sBOBzEdXngvxFJtAlIa-eAgA?e=8ukWwa). Please download the data files and place them on a relative path. Dataset(s) used in this assignment were compiled by the Office of Airline Information, Bureau of Transportation Statistics (BTS), Airline On-Time Performance Data, available with the following [link](https://www.transtats.bts.gov/Fields.asp?gnoyr_VQ=FGJ)."
   ]
  },
  {
   "cell_type": "markdown",
   "metadata": {},
   "source": [
    "# Step 1: Problem formulation and data collection\n",
    "\n",
    "Start this project off by writing a few sentences below that summarize the business problem and the business goal you're trying to achieve in this scenario. Include a business metric you would like your team to aspire toward. With that information defined, clearly write out the machine learning problem statement. Finally, add a comment or two about the type of machine learning this represents. \n",
    "\n",
    "\n",
    "### 1. Determine if and why ML is an appropriate solution to deploy."
   ]
  },
  {
   "cell_type": "markdown",
   "metadata": {},
   "source": [
    "#### Business Problem  \n",
    "Flight delays cause significant inconvenience to customers and financial losses to airlines and travel platforms. Our travel booking website aims to improve the customer experience by proactively notifying users if their booked flight is likely to be delayed due to weather conditions. This would enable customers to make informed choices and reduce frustration at airports.\n",
    "\n",
    "#### Business Goal  \n",
    "The goal is to develop a predictive system that identifies flights likely to be delayed due to weather, enabling the platform to alert customers before travel.  \n",
    "\n",
    "**Target business metrics:**  \n",
    "- **Reduce customer delay complaints by 15%** within the first six months of feature deployment.  \n",
    "- **Increase user satisfaction scores by 10%** as measured through post-booking surveys.\n",
    "\n",
    "#### Machine Learning Problem Statement  \n",
    "Formulate a supervised binary classification problem to predict whether a given flight will be “Delayed due to weather” (Yes/No) using features such as departure time, origin and destination airports, date, airline, and historical weather data. The model will be trained on historical flight performance data (2014–2018) provided by the Bureau of Transportation Statistics (BTS).\n",
    "\n",
    "#### Why Machine Learning?  \n",
    "Traditional rule-based systems cannot effectively model the complex, non-linear relationships between weather patterns, geography, and flight operations. Machine learning enables data-driven predictions based on patterns learned from large amounts of historical data.\n",
    "\n",
    "#### Type of Machine Learning  \n",
    "This is a supervised learning problem focused on classification, where the model learns from labeled historical data to predict whether a flight will be delayed or not.\n"
   ]
  },
  {
   "cell_type": "markdown",
   "metadata": {},
   "source": [
    "### 2. Formulate the business problem, success metrics, and desired ML output."
   ]
  },
  {
   "cell_type": "markdown",
   "metadata": {},
   "source": [
    "#### Business Problem  \n",
    "Flight delays—particularly those caused by weather—create negative customer experiences and can lead to reputational and financial losses for airlines and booking platforms. The company wants to predict whether a scheduled flight will be delayed due to weather so customers can make better-informed travel decisions when booking.\n",
    "\n",
    "#### Success Metrics  \n",
    "To evaluate the success of this initiative, both business and technical metrics will be used:\n",
    "\n",
    "**Business Metrics:**  \n",
    "- Reduce customer delay complaints by 15% within six months of deployment.  \n",
    "- Improve customer satisfaction (CSAT) scores related to flight information accuracy by 10%.  \n",
    "- Decrease refund and rescheduling requests by 10%.\n",
    "\n",
    "**Model Performance Metrics:**  \n",
    "- **Precision**: Ensure that at least 80% of flights predicted as delayed are truly delayed (to avoid false alarms).  \n",
    "- **Recall**: Aim for 85% recall to correctly identify most delay events.  \n",
    "- **F1 Score**: Optimize the balance between precision and recall.  \n",
    "- **AUC-ROC**: Evaluate model discrimination between delayed and non-delayed flights.\n",
    "\n",
    "#### Desired Machine Learning Output  \n",
    "The machine learning model should output a binary classification label:  \n",
    "- **1 (Yes)** → Flight is likely to be delayed due to weather.  \n",
    "- **0 (No)** → Flight is likely to depart on time.\n",
    "\n",
    "Optionally, the model may also produce a probability score (0–1) indicating the likelihood of a weather-related delay. This allows the business to set a threshold (e.g., only warn customers if probability > 0.7) depending on their tolerance for false positives.\n",
    "\n",
    "#### Summary  \n",
    "This model’s outcome will directly feed into the booking platform to provide real-time predictive alerts for users, enabling proactive communication and improving customer trust while optimizing operational decision-making for the company."
   ]
  },
  {
   "cell_type": "markdown",
   "metadata": {},
   "source": [
    "### 3. Identify the type of ML problem you’re dealing with."
   ]
  },
  {
   "cell_type": "markdown",
   "metadata": {},
   "source": [
    "This project represents a supervised learning problem because we are training a model on historical flight data where the outcome (delayed due to weather or not) is already known. The model learns patterns from these labeled examples to predict outcomes for new, unseen flights.\n",
    "\n",
    "#### Type of Problem  \n",
    "- **Category:** Supervised Learning  \n",
    "- **Task:** Classification  \n",
    "- **Output Variable:** Binary (0 = Not Delayed, 1 = Delayed due to weather)\n",
    "\n",
    "#### Explanation  \n",
    "The goal is to predict a categorical label—whether a flight will be delayed or not—based on a range of input features such as:\n",
    "- Date and time of departure  \n",
    "- Origin and destination airports  \n",
    "- Airline and flight distance  \n",
    "- Historical and forecasted weather conditions  \n",
    "\n",
    "Since the output variable is discrete (Yes/No), this is a binary classification task.  \n",
    "If the objective were to predict the exact number of minutes of delay instead, it would become a regression problem; however, in this scenario, we are only interested in the likelihood of delay, not its duration.\n",
    "\n",
    "#### Examples of Suitable Algorithms  \n",
    "- Logistic Regression  \n",
    "- Random Forest Classifier  \n",
    "- Gradient Boosted Trees (e.g., XGBoost)  \n",
    "- Support Vector Machines (SVM)\n",
    "\n",
    "The model will ultimately be evaluated using classification metrics such as accuracy, precision, recall, and AUC-ROC to ensure balanced predictive performance."
   ]
  },
  {
   "cell_type": "markdown",
   "metadata": {},
   "source": [
    "### Setup\n",
    "\n",
    "Now that we have decided where to focus our energy, let's set things up so you can start working on solving the problem."
   ]
  },
  {
   "cell_type": "code",
   "execution_count": 1,
   "metadata": {},
   "outputs": [],
   "source": [
    "import os\n",
    "from pathlib2 import Path\n",
    "from zipfile import ZipFile\n",
    "import time\n",
    "\n",
    "import pandas as pd\n",
    "import numpy as np\n",
    "import subprocess\n",
    "\n",
    "import matplotlib.pyplot as plt\n",
    "import seaborn as sns\n",
    "\n",
    "sns.set()\n",
    "\n",
    "import warnings\n",
    "warnings.filterwarnings('ignore')\n",
    "\n",
    "%matplotlib inline\n",
    "\n",
    "# <please add any other library or function you are aiming to import here>\n",
    "from sklearn.model_selection import train_test_split\n",
    "from sklearn.linear_model import LogisticRegression\n",
    "from sklearn.metrics import accuracy_score, confusion_matrix, classification_report"
   ]
  },
  {
   "cell_type": "markdown",
   "metadata": {},
   "source": [
    "# Step 2: Data preprocessing and visualization  \n",
    "In this data preprocessing phase, you should take the opportunity to explore and visualize your data to better understand it. First, import the necessary libraries and read the data into a Pandas dataframe. After that, explore your data. Look for the shape of the dataset and explore your columns and the types of columns you're working with (numerical, categorical). Consider performing basic statistics on the features to get a sense of feature means and ranges. Take a close look at your target column and determine its distribution.\n",
    "\n",
    "### Specific questions to consider\n",
    "1. What can you deduce from the basic statistics you ran on the features? \n",
    "\n",
    "2. What can you deduce from the distributions of the target classes?\n",
    "\n",
    "3. Is there anything else you deduced from exploring the data?"
   ]
  },
  {
   "cell_type": "markdown",
   "metadata": {},
   "source": [
    "Start by bringing in the dataset from an Amazon S3 public bucket to this notebook environment."
   ]
  },
  {
   "cell_type": "code",
   "execution_count": 2,
   "metadata": {},
   "outputs": [
    {
     "name": "stderr",
     "output_type": "stream",
     "text": [
      "The syntax of the command is incorrect.\n"
     ]
    }
   ],
   "source": [
    "# download the files\n",
    "\n",
    "# <note: make them all relative, absolute path is not accepted>\n",
    "zip_path = 'data/data_compressed'\n",
    "base_path = '.'\n",
    "csv_base_path = 'data/data_uncompressed'\n",
    "combined_df_path = 'data/'\n",
    "\n",
    "!mkdir -p {csv_base_path}"
   ]
  },
  {
   "cell_type": "code",
   "execution_count": 3,
   "metadata": {},
   "outputs": [
    {
     "name": "stdout",
     "output_type": "stream",
     "text": [
      "Number of ZIP files found: 60\n"
     ]
    }
   ],
   "source": [
    "# How many zip files do we have? write a code to answer it.\n",
    "zip_files = [os.path.join(zip_path, f) for f in os.listdir(zip_path) if f.lower().endswith('.zip')]\n",
    "\n",
    "# Print results\n",
    "print(f'Number of ZIP files found: {len(zip_files)}')"
   ]
  },
  {
   "cell_type": "markdown",
   "metadata": {},
   "source": [
    "#### Extract CSV files from ZIP files"
   ]
  },
  {
   "cell_type": "code",
   "execution_count": 4,
   "metadata": {
    "scrolled": true
   },
   "outputs": [
    {
     "name": "stdout",
     "output_type": "stream",
     "text": [
      "Extracting data/data_compressed\\On_Time_Reporting_Carrier_On_Time_Performance_1987_present_2014_1.zip \n",
      "Extracting data/data_compressed\\On_Time_Reporting_Carrier_On_Time_Performance_1987_present_2014_10.zip \n",
      "Extracting data/data_compressed\\On_Time_Reporting_Carrier_On_Time_Performance_1987_present_2014_11.zip \n",
      "Extracting data/data_compressed\\On_Time_Reporting_Carrier_On_Time_Performance_1987_present_2014_12.zip \n",
      "Extracting data/data_compressed\\On_Time_Reporting_Carrier_On_Time_Performance_1987_present_2014_2.zip \n",
      "Extracting data/data_compressed\\On_Time_Reporting_Carrier_On_Time_Performance_1987_present_2014_3.zip \n",
      "Extracting data/data_compressed\\On_Time_Reporting_Carrier_On_Time_Performance_1987_present_2014_4.zip \n",
      "Extracting data/data_compressed\\On_Time_Reporting_Carrier_On_Time_Performance_1987_present_2014_5.zip \n",
      "Extracting data/data_compressed\\On_Time_Reporting_Carrier_On_Time_Performance_1987_present_2014_6.zip \n",
      "Extracting data/data_compressed\\On_Time_Reporting_Carrier_On_Time_Performance_1987_present_2014_7.zip \n",
      "Extracting data/data_compressed\\On_Time_Reporting_Carrier_On_Time_Performance_1987_present_2014_8.zip \n",
      "Extracting data/data_compressed\\On_Time_Reporting_Carrier_On_Time_Performance_1987_present_2014_9.zip \n",
      "Extracting data/data_compressed\\On_Time_Reporting_Carrier_On_Time_Performance_1987_present_2015_1.zip \n",
      "Extracting data/data_compressed\\On_Time_Reporting_Carrier_On_Time_Performance_1987_present_2015_10.zip \n",
      "Extracting data/data_compressed\\On_Time_Reporting_Carrier_On_Time_Performance_1987_present_2015_11.zip \n",
      "Extracting data/data_compressed\\On_Time_Reporting_Carrier_On_Time_Performance_1987_present_2015_12.zip \n",
      "Extracting data/data_compressed\\On_Time_Reporting_Carrier_On_Time_Performance_1987_present_2015_2.zip \n",
      "Extracting data/data_compressed\\On_Time_Reporting_Carrier_On_Time_Performance_1987_present_2015_3.zip \n",
      "Extracting data/data_compressed\\On_Time_Reporting_Carrier_On_Time_Performance_1987_present_2015_4.zip \n",
      "Extracting data/data_compressed\\On_Time_Reporting_Carrier_On_Time_Performance_1987_present_2015_5.zip \n",
      "Extracting data/data_compressed\\On_Time_Reporting_Carrier_On_Time_Performance_1987_present_2015_6.zip \n",
      "Extracting data/data_compressed\\On_Time_Reporting_Carrier_On_Time_Performance_1987_present_2015_7.zip \n",
      "Extracting data/data_compressed\\On_Time_Reporting_Carrier_On_Time_Performance_1987_present_2015_8.zip \n",
      "Extracting data/data_compressed\\On_Time_Reporting_Carrier_On_Time_Performance_1987_present_2015_9.zip \n",
      "Extracting data/data_compressed\\On_Time_Reporting_Carrier_On_Time_Performance_1987_present_2016_1.zip \n",
      "Extracting data/data_compressed\\On_Time_Reporting_Carrier_On_Time_Performance_1987_present_2016_10.zip \n",
      "Extracting data/data_compressed\\On_Time_Reporting_Carrier_On_Time_Performance_1987_present_2016_11.zip \n",
      "Extracting data/data_compressed\\On_Time_Reporting_Carrier_On_Time_Performance_1987_present_2016_12.zip \n",
      "Extracting data/data_compressed\\On_Time_Reporting_Carrier_On_Time_Performance_1987_present_2016_2.zip \n",
      "Extracting data/data_compressed\\On_Time_Reporting_Carrier_On_Time_Performance_1987_present_2016_3.zip \n",
      "Extracting data/data_compressed\\On_Time_Reporting_Carrier_On_Time_Performance_1987_present_2016_4.zip \n",
      "Extracting data/data_compressed\\On_Time_Reporting_Carrier_On_Time_Performance_1987_present_2016_5.zip \n",
      "Extracting data/data_compressed\\On_Time_Reporting_Carrier_On_Time_Performance_1987_present_2016_6.zip \n",
      "Extracting data/data_compressed\\On_Time_Reporting_Carrier_On_Time_Performance_1987_present_2016_7.zip \n",
      "Extracting data/data_compressed\\On_Time_Reporting_Carrier_On_Time_Performance_1987_present_2016_8.zip \n",
      "Extracting data/data_compressed\\On_Time_Reporting_Carrier_On_Time_Performance_1987_present_2016_9.zip \n",
      "Extracting data/data_compressed\\On_Time_Reporting_Carrier_On_Time_Performance_1987_present_2017_1.zip \n",
      "Extracting data/data_compressed\\On_Time_Reporting_Carrier_On_Time_Performance_1987_present_2017_10.zip \n",
      "Extracting data/data_compressed\\On_Time_Reporting_Carrier_On_Time_Performance_1987_present_2017_11.zip \n",
      "Extracting data/data_compressed\\On_Time_Reporting_Carrier_On_Time_Performance_1987_present_2017_12.zip \n",
      "Extracting data/data_compressed\\On_Time_Reporting_Carrier_On_Time_Performance_1987_present_2017_2.zip \n",
      "Extracting data/data_compressed\\On_Time_Reporting_Carrier_On_Time_Performance_1987_present_2017_3.zip \n",
      "Extracting data/data_compressed\\On_Time_Reporting_Carrier_On_Time_Performance_1987_present_2017_4.zip \n",
      "Extracting data/data_compressed\\On_Time_Reporting_Carrier_On_Time_Performance_1987_present_2017_5.zip \n",
      "Extracting data/data_compressed\\On_Time_Reporting_Carrier_On_Time_Performance_1987_present_2017_6.zip \n",
      "Extracting data/data_compressed\\On_Time_Reporting_Carrier_On_Time_Performance_1987_present_2017_7.zip \n",
      "Extracting data/data_compressed\\On_Time_Reporting_Carrier_On_Time_Performance_1987_present_2017_8.zip \n",
      "Extracting data/data_compressed\\On_Time_Reporting_Carrier_On_Time_Performance_1987_present_2017_9.zip \n",
      "Extracting data/data_compressed\\On_Time_Reporting_Carrier_On_Time_Performance_1987_present_2018_1.zip \n",
      "Extracting data/data_compressed\\On_Time_Reporting_Carrier_On_Time_Performance_1987_present_2018_10.zip \n",
      "Extracting data/data_compressed\\On_Time_Reporting_Carrier_On_Time_Performance_1987_present_2018_11.zip \n",
      "Extracting data/data_compressed\\On_Time_Reporting_Carrier_On_Time_Performance_1987_present_2018_12.zip \n",
      "Extracting data/data_compressed\\On_Time_Reporting_Carrier_On_Time_Performance_1987_present_2018_2.zip \n",
      "Extracting data/data_compressed\\On_Time_Reporting_Carrier_On_Time_Performance_1987_present_2018_3.zip \n",
      "Extracting data/data_compressed\\On_Time_Reporting_Carrier_On_Time_Performance_1987_present_2018_4.zip \n",
      "Extracting data/data_compressed\\On_Time_Reporting_Carrier_On_Time_Performance_1987_present_2018_5.zip \n",
      "Extracting data/data_compressed\\On_Time_Reporting_Carrier_On_Time_Performance_1987_present_2018_6.zip \n",
      "Extracting data/data_compressed\\On_Time_Reporting_Carrier_On_Time_Performance_1987_present_2018_7.zip \n",
      "Extracting data/data_compressed\\On_Time_Reporting_Carrier_On_Time_Performance_1987_present_2018_8.zip \n",
      "Extracting data/data_compressed\\On_Time_Reporting_Carrier_On_Time_Performance_1987_present_2018_9.zip \n",
      "Files Extracted\n"
     ]
    }
   ],
   "source": [
    "def zip2csv(zipFile_name , file_path):\n",
    "    '''\n",
    "    Extract csv from zip files\n",
    "    zipFile_name: name of the zip file\n",
    "    file_path : name of the folder to store csv\n",
    "    '''\n",
    "\n",
    "    try:\n",
    "        with ZipFile(zipFile_name, 'r') as z: \n",
    "            print(f'Extracting {zipFile_name} ') \n",
    "            z.extractall(path=file_path) \n",
    "    except:\n",
    "        print(f'zip2csv failed for {zipFile_name}')\n",
    "\n",
    "for file in zip_files:\n",
    "    zip2csv(file, csv_base_path)\n",
    "\n",
    "print('Files Extracted')"
   ]
  },
  {
   "cell_type": "code",
   "execution_count": 5,
   "metadata": {},
   "outputs": [
    {
     "name": "stdout",
     "output_type": "stream",
     "text": [
      "Number of CSV files extracted: 60\n"
     ]
    }
   ],
   "source": [
    "# How many csv files have we extracted? write a code to answer it.\n",
    "# Recursively find all CSV files in the folder\n",
    "csv_files = [\n",
    "    os.path.join(root, file)\n",
    "    for root, _, files in os.walk(csv_base_path)\n",
    "    for file in files if file.lower().endswith('.csv')\n",
    "]\n",
    "\n",
    "print(f'Number of CSV files extracted: {len(csv_files)}')"
   ]
  },
  {
   "cell_type": "markdown",
   "metadata": {},
   "source": [
    "Before loading the CSV file, read the HTML file from the extracted folder. This HTML file includes the background and more information on the features included in the dataset."
   ]
  },
  {
   "cell_type": "code",
   "execution_count": 6,
   "metadata": {
    "scrolled": true
   },
   "outputs": [
    {
     "data": {
      "text/html": [
       "\n",
       "        <iframe\n",
       "            width=\"1000\"\n",
       "            height=\"600\"\n",
       "            src=\"data\\data_uncompressed\\readme.html\"\n",
       "            frameborder=\"0\"\n",
       "            allowfullscreen\n",
       "            \n",
       "        ></iframe>\n",
       "        "
      ],
      "text/plain": [
       "<IPython.lib.display.IFrame at 0x1fd30142550>"
      ]
     },
     "execution_count": 6,
     "metadata": {},
     "output_type": "execute_result"
    }
   ],
   "source": [
    "from IPython.display import IFrame\n",
    "\n",
    "IFrame(src=os.path.relpath(f'{csv_base_path}/readme.html'), width=1000, height=600)"
   ]
  },
  {
   "cell_type": "markdown",
   "metadata": {},
   "source": [
    "#### Load sample CSV\n",
    "\n",
    "Before combining all the CSV files, get a sense of the data from a single CSV file. Using Pandas, read the `On_Time_Reporting_Carrier_On_Time_Performance_(1987_present)_2018_9.csv` file first. You can use the Python built-in `read_csv` function ([documentation](https://pandas.pydata.org/pandas-docs/stable/reference/api/pandas.read_csv.html))."
   ]
  },
  {
   "cell_type": "code",
   "execution_count": 7,
   "metadata": {},
   "outputs": [],
   "source": [
    "df_temp = pd.read_csv('data/data_uncompressed/On_Time_Reporting_Carrier_On_Time_Performance_(1987_present)_2018_9.csv') # **ENTER YOUR CODE HERE**"
   ]
  },
  {
   "cell_type": "markdown",
   "metadata": {},
   "source": [
    "**Question**: Print the row and column length in the dataset, and print the column names."
   ]
  },
  {
   "cell_type": "code",
   "execution_count": 8,
   "metadata": {
    "scrolled": true
   },
   "outputs": [
    {
     "name": "stdout",
     "output_type": "stream",
     "text": [
      "Rows and columns in one CSV file: (585749, 110)\n",
      "\n",
      "Column names:\n",
      "['Year', 'Quarter', 'Month', 'DayofMonth', 'DayOfWeek', 'FlightDate', 'Reporting_Airline', 'DOT_ID_Reporting_Airline', 'IATA_CODE_Reporting_Airline', 'Tail_Number', 'Flight_Number_Reporting_Airline', 'OriginAirportID', 'OriginAirportSeqID', 'OriginCityMarketID', 'Origin', 'OriginCityName', 'OriginState', 'OriginStateFips', 'OriginStateName', 'OriginWac', 'DestAirportID', 'DestAirportSeqID', 'DestCityMarketID', 'Dest', 'DestCityName', 'DestState', 'DestStateFips', 'DestStateName', 'DestWac', 'CRSDepTime', 'DepTime', 'DepDelay', 'DepDelayMinutes', 'DepDel15', 'DepartureDelayGroups', 'DepTimeBlk', 'TaxiOut', 'WheelsOff', 'WheelsOn', 'TaxiIn', 'CRSArrTime', 'ArrTime', 'ArrDelay', 'ArrDelayMinutes', 'ArrDel15', 'ArrivalDelayGroups', 'ArrTimeBlk', 'Cancelled', 'CancellationCode', 'Diverted', 'CRSElapsedTime', 'ActualElapsedTime', 'AirTime', 'Flights', 'Distance', 'DistanceGroup', 'CarrierDelay', 'WeatherDelay', 'NASDelay', 'SecurityDelay', 'LateAircraftDelay', 'FirstDepTime', 'TotalAddGTime', 'LongestAddGTime', 'DivAirportLandings', 'DivReachedDest', 'DivActualElapsedTime', 'DivArrDelay', 'DivDistance', 'Div1Airport', 'Div1AirportID', 'Div1AirportSeqID', 'Div1WheelsOn', 'Div1TotalGTime', 'Div1LongestGTime', 'Div1WheelsOff', 'Div1TailNum', 'Div2Airport', 'Div2AirportID', 'Div2AirportSeqID', 'Div2WheelsOn', 'Div2TotalGTime', 'Div2LongestGTime', 'Div2WheelsOff', 'Div2TailNum', 'Div3Airport', 'Div3AirportID', 'Div3AirportSeqID', 'Div3WheelsOn', 'Div3TotalGTime', 'Div3LongestGTime', 'Div3WheelsOff', 'Div3TailNum', 'Div4Airport', 'Div4AirportID', 'Div4AirportSeqID', 'Div4WheelsOn', 'Div4TotalGTime', 'Div4LongestGTime', 'Div4WheelsOff', 'Div4TailNum', 'Div5Airport', 'Div5AirportID', 'Div5AirportSeqID', 'Div5WheelsOn', 'Div5TotalGTime', 'Div5LongestGTime', 'Div5WheelsOff', 'Div5TailNum', 'Unnamed: 109']\n"
     ]
    }
   ],
   "source": [
    "df_shape = df_temp.shape\n",
    "print(f'Rows and columns in one CSV file: {df_shape}')\n",
    "\n",
    "# Print column names\n",
    "print('\\nColumn names:')\n",
    "print(df_temp.columns.tolist())"
   ]
  },
  {
   "cell_type": "markdown",
   "metadata": {},
   "source": [
    "**Question**: Print the first 10 rows of the dataset.  "
   ]
  },
  {
   "cell_type": "code",
   "execution_count": 9,
   "metadata": {
    "scrolled": true
   },
   "outputs": [
    {
     "data": {
      "text/html": [
       "<div>\n",
       "<style scoped>\n",
       "    .dataframe tbody tr th:only-of-type {\n",
       "        vertical-align: middle;\n",
       "    }\n",
       "\n",
       "    .dataframe tbody tr th {\n",
       "        vertical-align: top;\n",
       "    }\n",
       "\n",
       "    .dataframe thead th {\n",
       "        text-align: right;\n",
       "    }\n",
       "</style>\n",
       "<table border=\"1\" class=\"dataframe\">\n",
       "  <thead>\n",
       "    <tr style=\"text-align: right;\">\n",
       "      <th></th>\n",
       "      <th>Year</th>\n",
       "      <th>Quarter</th>\n",
       "      <th>Month</th>\n",
       "      <th>DayofMonth</th>\n",
       "      <th>DayOfWeek</th>\n",
       "      <th>FlightDate</th>\n",
       "      <th>Reporting_Airline</th>\n",
       "      <th>DOT_ID_Reporting_Airline</th>\n",
       "      <th>IATA_CODE_Reporting_Airline</th>\n",
       "      <th>Tail_Number</th>\n",
       "      <th>...</th>\n",
       "      <th>Div4TailNum</th>\n",
       "      <th>Div5Airport</th>\n",
       "      <th>Div5AirportID</th>\n",
       "      <th>Div5AirportSeqID</th>\n",
       "      <th>Div5WheelsOn</th>\n",
       "      <th>Div5TotalGTime</th>\n",
       "      <th>Div5LongestGTime</th>\n",
       "      <th>Div5WheelsOff</th>\n",
       "      <th>Div5TailNum</th>\n",
       "      <th>Unnamed: 109</th>\n",
       "    </tr>\n",
       "  </thead>\n",
       "  <tbody>\n",
       "    <tr>\n",
       "      <th>0</th>\n",
       "      <td>2018</td>\n",
       "      <td>3</td>\n",
       "      <td>9</td>\n",
       "      <td>3</td>\n",
       "      <td>1</td>\n",
       "      <td>2018-09-03</td>\n",
       "      <td>9E</td>\n",
       "      <td>20363</td>\n",
       "      <td>9E</td>\n",
       "      <td>N908XJ</td>\n",
       "      <td>...</td>\n",
       "      <td>NaN</td>\n",
       "      <td>NaN</td>\n",
       "      <td>NaN</td>\n",
       "      <td>NaN</td>\n",
       "      <td>NaN</td>\n",
       "      <td>NaN</td>\n",
       "      <td>NaN</td>\n",
       "      <td>NaN</td>\n",
       "      <td>NaN</td>\n",
       "      <td>NaN</td>\n",
       "    </tr>\n",
       "    <tr>\n",
       "      <th>1</th>\n",
       "      <td>2018</td>\n",
       "      <td>3</td>\n",
       "      <td>9</td>\n",
       "      <td>9</td>\n",
       "      <td>7</td>\n",
       "      <td>2018-09-09</td>\n",
       "      <td>9E</td>\n",
       "      <td>20363</td>\n",
       "      <td>9E</td>\n",
       "      <td>N315PQ</td>\n",
       "      <td>...</td>\n",
       "      <td>NaN</td>\n",
       "      <td>NaN</td>\n",
       "      <td>NaN</td>\n",
       "      <td>NaN</td>\n",
       "      <td>NaN</td>\n",
       "      <td>NaN</td>\n",
       "      <td>NaN</td>\n",
       "      <td>NaN</td>\n",
       "      <td>NaN</td>\n",
       "      <td>NaN</td>\n",
       "    </tr>\n",
       "    <tr>\n",
       "      <th>2</th>\n",
       "      <td>2018</td>\n",
       "      <td>3</td>\n",
       "      <td>9</td>\n",
       "      <td>10</td>\n",
       "      <td>1</td>\n",
       "      <td>2018-09-10</td>\n",
       "      <td>9E</td>\n",
       "      <td>20363</td>\n",
       "      <td>9E</td>\n",
       "      <td>N582CA</td>\n",
       "      <td>...</td>\n",
       "      <td>NaN</td>\n",
       "      <td>NaN</td>\n",
       "      <td>NaN</td>\n",
       "      <td>NaN</td>\n",
       "      <td>NaN</td>\n",
       "      <td>NaN</td>\n",
       "      <td>NaN</td>\n",
       "      <td>NaN</td>\n",
       "      <td>NaN</td>\n",
       "      <td>NaN</td>\n",
       "    </tr>\n",
       "    <tr>\n",
       "      <th>3</th>\n",
       "      <td>2018</td>\n",
       "      <td>3</td>\n",
       "      <td>9</td>\n",
       "      <td>13</td>\n",
       "      <td>4</td>\n",
       "      <td>2018-09-13</td>\n",
       "      <td>9E</td>\n",
       "      <td>20363</td>\n",
       "      <td>9E</td>\n",
       "      <td>N292PQ</td>\n",
       "      <td>...</td>\n",
       "      <td>NaN</td>\n",
       "      <td>NaN</td>\n",
       "      <td>NaN</td>\n",
       "      <td>NaN</td>\n",
       "      <td>NaN</td>\n",
       "      <td>NaN</td>\n",
       "      <td>NaN</td>\n",
       "      <td>NaN</td>\n",
       "      <td>NaN</td>\n",
       "      <td>NaN</td>\n",
       "    </tr>\n",
       "    <tr>\n",
       "      <th>4</th>\n",
       "      <td>2018</td>\n",
       "      <td>3</td>\n",
       "      <td>9</td>\n",
       "      <td>14</td>\n",
       "      <td>5</td>\n",
       "      <td>2018-09-14</td>\n",
       "      <td>9E</td>\n",
       "      <td>20363</td>\n",
       "      <td>9E</td>\n",
       "      <td>N600LR</td>\n",
       "      <td>...</td>\n",
       "      <td>NaN</td>\n",
       "      <td>NaN</td>\n",
       "      <td>NaN</td>\n",
       "      <td>NaN</td>\n",
       "      <td>NaN</td>\n",
       "      <td>NaN</td>\n",
       "      <td>NaN</td>\n",
       "      <td>NaN</td>\n",
       "      <td>NaN</td>\n",
       "      <td>NaN</td>\n",
       "    </tr>\n",
       "    <tr>\n",
       "      <th>5</th>\n",
       "      <td>2018</td>\n",
       "      <td>3</td>\n",
       "      <td>9</td>\n",
       "      <td>16</td>\n",
       "      <td>7</td>\n",
       "      <td>2018-09-16</td>\n",
       "      <td>9E</td>\n",
       "      <td>20363</td>\n",
       "      <td>9E</td>\n",
       "      <td>N316PQ</td>\n",
       "      <td>...</td>\n",
       "      <td>NaN</td>\n",
       "      <td>NaN</td>\n",
       "      <td>NaN</td>\n",
       "      <td>NaN</td>\n",
       "      <td>NaN</td>\n",
       "      <td>NaN</td>\n",
       "      <td>NaN</td>\n",
       "      <td>NaN</td>\n",
       "      <td>NaN</td>\n",
       "      <td>NaN</td>\n",
       "    </tr>\n",
       "    <tr>\n",
       "      <th>6</th>\n",
       "      <td>2018</td>\n",
       "      <td>3</td>\n",
       "      <td>9</td>\n",
       "      <td>17</td>\n",
       "      <td>1</td>\n",
       "      <td>2018-09-17</td>\n",
       "      <td>9E</td>\n",
       "      <td>20363</td>\n",
       "      <td>9E</td>\n",
       "      <td>N916XJ</td>\n",
       "      <td>...</td>\n",
       "      <td>NaN</td>\n",
       "      <td>NaN</td>\n",
       "      <td>NaN</td>\n",
       "      <td>NaN</td>\n",
       "      <td>NaN</td>\n",
       "      <td>NaN</td>\n",
       "      <td>NaN</td>\n",
       "      <td>NaN</td>\n",
       "      <td>NaN</td>\n",
       "      <td>NaN</td>\n",
       "    </tr>\n",
       "    <tr>\n",
       "      <th>7</th>\n",
       "      <td>2018</td>\n",
       "      <td>3</td>\n",
       "      <td>9</td>\n",
       "      <td>20</td>\n",
       "      <td>4</td>\n",
       "      <td>2018-09-20</td>\n",
       "      <td>9E</td>\n",
       "      <td>20363</td>\n",
       "      <td>9E</td>\n",
       "      <td>N371CA</td>\n",
       "      <td>...</td>\n",
       "      <td>NaN</td>\n",
       "      <td>NaN</td>\n",
       "      <td>NaN</td>\n",
       "      <td>NaN</td>\n",
       "      <td>NaN</td>\n",
       "      <td>NaN</td>\n",
       "      <td>NaN</td>\n",
       "      <td>NaN</td>\n",
       "      <td>NaN</td>\n",
       "      <td>NaN</td>\n",
       "    </tr>\n",
       "    <tr>\n",
       "      <th>8</th>\n",
       "      <td>2018</td>\n",
       "      <td>3</td>\n",
       "      <td>9</td>\n",
       "      <td>21</td>\n",
       "      <td>5</td>\n",
       "      <td>2018-09-21</td>\n",
       "      <td>9E</td>\n",
       "      <td>20363</td>\n",
       "      <td>9E</td>\n",
       "      <td>N601LR</td>\n",
       "      <td>...</td>\n",
       "      <td>NaN</td>\n",
       "      <td>NaN</td>\n",
       "      <td>NaN</td>\n",
       "      <td>NaN</td>\n",
       "      <td>NaN</td>\n",
       "      <td>NaN</td>\n",
       "      <td>NaN</td>\n",
       "      <td>NaN</td>\n",
       "      <td>NaN</td>\n",
       "      <td>NaN</td>\n",
       "    </tr>\n",
       "    <tr>\n",
       "      <th>9</th>\n",
       "      <td>2018</td>\n",
       "      <td>3</td>\n",
       "      <td>9</td>\n",
       "      <td>23</td>\n",
       "      <td>7</td>\n",
       "      <td>2018-09-23</td>\n",
       "      <td>9E</td>\n",
       "      <td>20363</td>\n",
       "      <td>9E</td>\n",
       "      <td>N906XJ</td>\n",
       "      <td>...</td>\n",
       "      <td>NaN</td>\n",
       "      <td>NaN</td>\n",
       "      <td>NaN</td>\n",
       "      <td>NaN</td>\n",
       "      <td>NaN</td>\n",
       "      <td>NaN</td>\n",
       "      <td>NaN</td>\n",
       "      <td>NaN</td>\n",
       "      <td>NaN</td>\n",
       "      <td>NaN</td>\n",
       "    </tr>\n",
       "  </tbody>\n",
       "</table>\n",
       "<p>10 rows × 110 columns</p>\n",
       "</div>"
      ],
      "text/plain": [
       "   Year  Quarter  Month  DayofMonth  DayOfWeek  FlightDate Reporting_Airline  \\\n",
       "0  2018        3      9           3          1  2018-09-03                9E   \n",
       "1  2018        3      9           9          7  2018-09-09                9E   \n",
       "2  2018        3      9          10          1  2018-09-10                9E   \n",
       "3  2018        3      9          13          4  2018-09-13                9E   \n",
       "4  2018        3      9          14          5  2018-09-14                9E   \n",
       "5  2018        3      9          16          7  2018-09-16                9E   \n",
       "6  2018        3      9          17          1  2018-09-17                9E   \n",
       "7  2018        3      9          20          4  2018-09-20                9E   \n",
       "8  2018        3      9          21          5  2018-09-21                9E   \n",
       "9  2018        3      9          23          7  2018-09-23                9E   \n",
       "\n",
       "   DOT_ID_Reporting_Airline IATA_CODE_Reporting_Airline Tail_Number  ...  \\\n",
       "0                     20363                          9E      N908XJ  ...   \n",
       "1                     20363                          9E      N315PQ  ...   \n",
       "2                     20363                          9E      N582CA  ...   \n",
       "3                     20363                          9E      N292PQ  ...   \n",
       "4                     20363                          9E      N600LR  ...   \n",
       "5                     20363                          9E      N316PQ  ...   \n",
       "6                     20363                          9E      N916XJ  ...   \n",
       "7                     20363                          9E      N371CA  ...   \n",
       "8                     20363                          9E      N601LR  ...   \n",
       "9                     20363                          9E      N906XJ  ...   \n",
       "\n",
       "   Div4TailNum  Div5Airport  Div5AirportID  Div5AirportSeqID Div5WheelsOn  \\\n",
       "0          NaN          NaN            NaN               NaN          NaN   \n",
       "1          NaN          NaN            NaN               NaN          NaN   \n",
       "2          NaN          NaN            NaN               NaN          NaN   \n",
       "3          NaN          NaN            NaN               NaN          NaN   \n",
       "4          NaN          NaN            NaN               NaN          NaN   \n",
       "5          NaN          NaN            NaN               NaN          NaN   \n",
       "6          NaN          NaN            NaN               NaN          NaN   \n",
       "7          NaN          NaN            NaN               NaN          NaN   \n",
       "8          NaN          NaN            NaN               NaN          NaN   \n",
       "9          NaN          NaN            NaN               NaN          NaN   \n",
       "\n",
       "  Div5TotalGTime Div5LongestGTime  Div5WheelsOff Div5TailNum  Unnamed: 109  \n",
       "0            NaN              NaN            NaN         NaN           NaN  \n",
       "1            NaN              NaN            NaN         NaN           NaN  \n",
       "2            NaN              NaN            NaN         NaN           NaN  \n",
       "3            NaN              NaN            NaN         NaN           NaN  \n",
       "4            NaN              NaN            NaN         NaN           NaN  \n",
       "5            NaN              NaN            NaN         NaN           NaN  \n",
       "6            NaN              NaN            NaN         NaN           NaN  \n",
       "7            NaN              NaN            NaN         NaN           NaN  \n",
       "8            NaN              NaN            NaN         NaN           NaN  \n",
       "9            NaN              NaN            NaN         NaN           NaN  \n",
       "\n",
       "[10 rows x 110 columns]"
      ]
     },
     "metadata": {},
     "output_type": "display_data"
    }
   ],
   "source": [
    "# Enter your code here\n",
    "display(df_temp.head(10))"
   ]
  },
  {
   "cell_type": "markdown",
   "metadata": {},
   "source": [
    "**Question**: Print all the columns in the dataset. Use `<dataframe>.columns` to view the column names."
   ]
  },
  {
   "cell_type": "code",
   "execution_count": 10,
   "metadata": {
    "scrolled": true
   },
   "outputs": [
    {
     "name": "stdout",
     "output_type": "stream",
     "text": [
      "The column names are :\n",
      "#########\n",
      "Year\n",
      "Quarter\n",
      "Month\n",
      "DayofMonth\n",
      "DayOfWeek\n",
      "FlightDate\n",
      "Reporting_Airline\n",
      "DOT_ID_Reporting_Airline\n",
      "IATA_CODE_Reporting_Airline\n",
      "Tail_Number\n",
      "Flight_Number_Reporting_Airline\n",
      "OriginAirportID\n",
      "OriginAirportSeqID\n",
      "OriginCityMarketID\n",
      "Origin\n",
      "OriginCityName\n",
      "OriginState\n",
      "OriginStateFips\n",
      "OriginStateName\n",
      "OriginWac\n",
      "DestAirportID\n",
      "DestAirportSeqID\n",
      "DestCityMarketID\n",
      "Dest\n",
      "DestCityName\n",
      "DestState\n",
      "DestStateFips\n",
      "DestStateName\n",
      "DestWac\n",
      "CRSDepTime\n",
      "DepTime\n",
      "DepDelay\n",
      "DepDelayMinutes\n",
      "DepDel15\n",
      "DepartureDelayGroups\n",
      "DepTimeBlk\n",
      "TaxiOut\n",
      "WheelsOff\n",
      "WheelsOn\n",
      "TaxiIn\n",
      "CRSArrTime\n",
      "ArrTime\n",
      "ArrDelay\n",
      "ArrDelayMinutes\n",
      "ArrDel15\n",
      "ArrivalDelayGroups\n",
      "ArrTimeBlk\n",
      "Cancelled\n",
      "CancellationCode\n",
      "Diverted\n",
      "CRSElapsedTime\n",
      "ActualElapsedTime\n",
      "AirTime\n",
      "Flights\n",
      "Distance\n",
      "DistanceGroup\n",
      "CarrierDelay\n",
      "WeatherDelay\n",
      "NASDelay\n",
      "SecurityDelay\n",
      "LateAircraftDelay\n",
      "FirstDepTime\n",
      "TotalAddGTime\n",
      "LongestAddGTime\n",
      "DivAirportLandings\n",
      "DivReachedDest\n",
      "DivActualElapsedTime\n",
      "DivArrDelay\n",
      "DivDistance\n",
      "Div1Airport\n",
      "Div1AirportID\n",
      "Div1AirportSeqID\n",
      "Div1WheelsOn\n",
      "Div1TotalGTime\n",
      "Div1LongestGTime\n",
      "Div1WheelsOff\n",
      "Div1TailNum\n",
      "Div2Airport\n",
      "Div2AirportID\n",
      "Div2AirportSeqID\n",
      "Div2WheelsOn\n",
      "Div2TotalGTime\n",
      "Div2LongestGTime\n",
      "Div2WheelsOff\n",
      "Div2TailNum\n",
      "Div3Airport\n",
      "Div3AirportID\n",
      "Div3AirportSeqID\n",
      "Div3WheelsOn\n",
      "Div3TotalGTime\n",
      "Div3LongestGTime\n",
      "Div3WheelsOff\n",
      "Div3TailNum\n",
      "Div4Airport\n",
      "Div4AirportID\n",
      "Div4AirportSeqID\n",
      "Div4WheelsOn\n",
      "Div4TotalGTime\n",
      "Div4LongestGTime\n",
      "Div4WheelsOff\n",
      "Div4TailNum\n",
      "Div5Airport\n",
      "Div5AirportID\n",
      "Div5AirportSeqID\n",
      "Div5WheelsOn\n",
      "Div5TotalGTime\n",
      "Div5LongestGTime\n",
      "Div5WheelsOff\n",
      "Div5TailNum\n",
      "Unnamed: 109\n"
     ]
    }
   ],
   "source": [
    "print('The column names are :')\n",
    "print('#########')\n",
    "for col in df_temp.columns:\n",
    "    print(col)"
   ]
  },
  {
   "cell_type": "markdown",
   "metadata": {},
   "source": [
    "**Question**: Print all the columns in the dataset that contain the word 'Del'. This will help you see how many columns have delay data in them.\n",
    "\n",
    "**Hint**: You can use a Python list comprehension to include values that pass certain `if` statement criteria.\n",
    "\n",
    "For example: `[x for x in [1,2,3,4,5] if x > 2]`  \n",
    "\n",
    "**Hint**: You can use the `in` keyword ([documentation](https://www.w3schools.com/python/ref_keyword_in.asp)) to check if the value is in a list or not. \n",
    "\n",
    "For example: `5 in [1,2,3,4,5]`"
   ]
  },
  {
   "cell_type": "code",
   "execution_count": 14,
   "metadata": {},
   "outputs": [
    {
     "name": "stdout",
     "output_type": "stream",
     "text": [
      "Columns containing 'Del':\n",
      "#########\n",
      "DepDelay\n",
      "DepDelayMinutes\n",
      "DepDel15\n",
      "DepartureDelayGroups\n",
      "ArrDelay\n",
      "ArrDelayMinutes\n",
      "ArrDel15\n",
      "ArrivalDelayGroups\n",
      "CarrierDelay\n",
      "WeatherDelay\n",
      "NASDelay\n",
      "SecurityDelay\n",
      "LateAircraftDelay\n",
      "DivArrDelay\n"
     ]
    }
   ],
   "source": [
    "# Enter your code here\n",
    "# Find columns containing the word 'Del'\n",
    "del_columns = [col for col in df_temp.columns if 'Del' in col]\n",
    "\n",
    "print(\"Columns containing 'Del':\")\n",
    "print('#########')\n",
    "for col in del_columns:\n",
    "    print(col)"
   ]
  },
  {
   "cell_type": "markdown",
   "metadata": {},
   "source": [
    "Here are some more questions to help you find out more about your dataset.\n",
    "\n",
    "**Questions**   \n",
    "1. How many rows and columns does the dataset have?   \n",
    "2. How many years are included in the dataset?   \n",
    "3. What is the date range for the dataset?   \n",
    "4. Which airlines are included in the dataset?   \n",
    "5. Which origin and destination airports are covered?"
   ]
  },
  {
   "cell_type": "code",
   "execution_count": 15,
   "metadata": {
    "scrolled": true
   },
   "outputs": [
    {
     "name": "stdout",
     "output_type": "stream",
     "text": [
      "The #rows and #columns are  585749  and  110\n",
      "The years in this dataset are:  [2018]\n",
      "The months covered in this dataset are:  [9]\n",
      "The date range for data is : 2018-09-01  to  2018-09-30\n",
      "The airlines covered in this dataset are:  ['9E', 'B6', 'WN', 'YV', 'YX', 'EV', 'AA', 'AS', 'DL', 'HA', 'UA', 'F9', 'G4', 'MQ', 'NK', 'OH', 'OO']\n",
      "The Origin airports covered are:  ['DFW', 'LGA', 'MSN', 'MSP', 'ATL', 'BDL', 'VLD', 'JFK', 'RDU', 'CHS', 'DTW', 'GRB', 'PVD', 'SHV', 'FNT', 'PIT', 'RIC', 'RST', 'RSW', 'CVG', 'LIT', 'ORD', 'JAX', 'TRI', 'BOS', 'CWA', 'DCA', 'CHO', 'AVP', 'IND', 'GRR', 'BTR', 'MEM', 'TUL', 'CLE', 'STL', 'BTV', 'OMA', 'MGM', 'TVC', 'SAV', 'GSP', 'EWR', 'OAJ', 'BNA', 'MCI', 'TLH', 'ROC', 'LEX', 'PWM', 'BUF', 'AGS', 'CLT', 'GSO', 'BWI', 'SAT', 'PHL', 'TYS', 'ACK', 'DSM', 'GNV', 'AVL', 'BGR', 'MHT', 'ILM', 'MOT', 'IAH', 'SBN', 'SYR', 'ORF', 'MKE', 'XNA', 'MSY', 'PBI', 'ABE', 'HPN', 'EVV', 'ALB', 'LNK', 'AUS', 'PHF', 'CHA', 'GTR', 'BMI', 'BQK', 'CID', 'CAK', 'ATW', 'ABY', 'CAE', 'SRQ', 'MLI', 'BHM', 'IAD', 'CSG', 'CMH', 'MCO', 'MBS', 'FLL', 'SDF', 'TPA', 'MVY', 'LAS', 'LGB', 'SFO', 'SAN', 'LAX', 'RNO', 'PDX', 'ANC', 'ABQ', 'SLC', 'DEN', 'PHX', 'OAK', 'SMF', 'SJU', 'SEA', 'HOU', 'STX', 'BUR', 'SWF', 'SJC', 'DAB', 'BQN', 'PSE', 'ORH', 'HYA', 'STT', 'ONT', 'HRL', 'ICT', 'ISP', 'LBB', 'MAF', 'MDW', 'OKC', 'PNS', 'SNA', 'TUS', 'AMA', 'BOI', 'CRP', 'DAL', 'ECP', 'ELP', 'GEG', 'LFT', 'MFE', 'MDT', 'JAN', 'COS', 'MOB', 'VPS', 'MTJ', 'DRO', 'GPT', 'BFL', 'MRY', 'SBA', 'PSP', 'FSD', 'BRO', 'RAP', 'COU', 'STS', 'PIA', 'FAT', 'SBP', 'FSM', 'HSV', 'BIS', 'DAY', 'BZN', 'MIA', 'EYW', 'MYR', 'HHH', 'GJT', 'FAR', 'SGF', 'HOB', 'CLL', 'LRD', 'AEX', 'ERI', 'MLU', 'LCH', 'ROA', 'LAW', 'MHK', 'GRK', 'SAF', 'GRI', 'JLN', 'ROW', 'FWA', 'CRW', 'LAN', 'OGG', 'HNL', 'KOA', 'EGE', 'LIH', 'MLB', 'JAC', 'FAI', 'RDM', 'ADQ', 'BET', 'BRW', 'SCC', 'KTN', 'YAK', 'CDV', 'JNU', 'SIT', 'PSG', 'WRG', 'OME', 'OTZ', 'ADK', 'FCA', 'FAY', 'PSC', 'BIL', 'MSO', 'ITO', 'PPG', 'MFR', 'EUG', 'GUM', 'SPN', 'DLH', 'TTN', 'BKG', 'SFB', 'PIE', 'PGD', 'AZA', 'SMX', 'RFD', 'SCK', 'OWB', 'HTS', 'BLV', 'IAG', 'USA', 'GFK', 'BLI', 'ELM', 'PBG', 'LCK', 'GTF', 'OGD', 'IDA', 'PVU', 'TOL', 'PSM', 'CKB', 'HGR', 'SPI', 'STC', 'ACT', 'TYR', 'ABI', 'AZO', 'CMI', 'BPT', 'GCK', 'MQT', 'ALO', 'TXK', 'SPS', 'SWO', 'DBQ', 'SUX', 'SJT', 'GGG', 'LSE', 'LBE', 'ACY', 'LYH', 'PGV', 'HVN', 'EWN', 'DHN', 'PIH', 'IMT', 'WYS', 'CPR', 'SCE', 'HLN', 'SUN', 'ISN', 'CMX', 'EAU', 'LWB', 'SHD', 'LBF', 'HYS', 'SLN', 'EAR', 'VEL', 'CNY', 'GCC', 'RKS', 'PUB', 'LBL', 'MKG', 'PAH', 'CGI', 'UIN', 'BFF', 'DVL', 'JMS', 'LAR', 'SGU', 'PRC', 'ASE', 'RDD', 'ACV', 'OTH', 'COD', 'LWS', 'ABR', 'APN', 'ESC', 'PLN', 'BJI', 'BRD', 'BTM', 'CDC', 'CIU', 'EKO', 'TWF', 'HIB', 'BGM', 'RHI', 'ITH', 'INL', 'FLG', 'YUM', 'MEI', 'PIB', 'HDN']\n",
      "The Destination airports covered are:  ['CVG', 'PWM', 'RDU', 'MSP', 'MSN', 'SHV', 'CLT', 'PIT', 'RIC', 'IAH', 'ATL', 'JFK', 'DCA', 'DTW', 'LGA', 'TYS', 'PVD', 'FNT', 'LIT', 'BUF', 'ORD', 'TRI', 'IND', 'BGR', 'AVP', 'BWI', 'LEX', 'BDL', 'GRR', 'CWA', 'TUL', 'MEM', 'AGS', 'EWR', 'MGM', 'PHL', 'SYR', 'OMA', 'STL', 'TVC', 'ORF', 'CLE', 'ABY', 'BOS', 'OAJ', 'TLH', 'BTR', 'SAT', 'JAX', 'BNA', 'CHO', 'VLD', 'ROC', 'DFW', 'GNV', 'ACK', 'PBI', 'CHS', 'GRB', 'MOT', 'MKE', 'DSM', 'ILM', 'GSO', 'MCI', 'SBN', 'BTV', 'MVY', 'XNA', 'RST', 'EVV', 'HPN', 'RSW', 'MDT', 'ROA', 'GSP', 'MCO', 'CSG', 'SAV', 'PHF', 'ALB', 'CHA', 'ABE', 'BMI', 'MSY', 'IAD', 'GTR', 'CID', 'CAK', 'ATW', 'AUS', 'BQK', 'MLI', 'CAE', 'CMH', 'AVL', 'MBS', 'FLL', 'SDF', 'TPA', 'LNK', 'SRQ', 'MHT', 'BHM', 'LAS', 'SFO', 'SAN', 'RNO', 'LGB', 'ANC', 'PDX', 'SJU', 'ABQ', 'SLC', 'DEN', 'LAX', 'PHX', 'OAK', 'SMF', 'SEA', 'STX', 'BUR', 'DAB', 'SJC', 'SWF', 'HOU', 'BQN', 'PSE', 'ORH', 'HYA', 'STT', 'ONT', 'DAL', 'ECP', 'ELP', 'HRL', 'MAF', 'MDW', 'OKC', 'PNS', 'SNA', 'AMA', 'BOI', 'GEG', 'ICT', 'LBB', 'TUS', 'ISP', 'CRP', 'MFE', 'LFT', 'VPS', 'JAN', 'COS', 'MOB', 'DRO', 'GPT', 'BFL', 'COU', 'SBP', 'MTJ', 'SBA', 'PSP', 'FSD', 'FSM', 'BRO', 'PIA', 'STS', 'FAT', 'RAP', 'MRY', 'HSV', 'BIS', 'DAY', 'BZN', 'MIA', 'EYW', 'MYR', 'HHH', 'GJT', 'FAR', 'MLU', 'LRD', 'CLL', 'LCH', 'FWA', 'GRK', 'SGF', 'HOB', 'LAW', 'MHK', 'SAF', 'JLN', 'ROW', 'GRI', 'AEX', 'CRW', 'LAN', 'ERI', 'HNL', 'KOA', 'OGG', 'EGE', 'LIH', 'JAC', 'MLB', 'RDM', 'BET', 'ADQ', 'BRW', 'SCC', 'FAI', 'JNU', 'CDV', 'YAK', 'SIT', 'KTN', 'WRG', 'PSG', 'OME', 'OTZ', 'ADK', 'FCA', 'BIL', 'PSC', 'FAY', 'MSO', 'ITO', 'PPG', 'MFR', 'DLH', 'EUG', 'GUM', 'SPN', 'TTN', 'BKG', 'AZA', 'SFB', 'LCK', 'BLI', 'SCK', 'PIE', 'RFD', 'PVU', 'PBG', 'BLV', 'PGD', 'SPI', 'USA', 'TOL', 'IDA', 'ELM', 'HTS', 'HGR', 'SMX', 'OGD', 'GFK', 'STC', 'GTF', 'IAG', 'CKB', 'OWB', 'PSM', 'ABI', 'TYR', 'ALO', 'SUX', 'AZO', 'ACT', 'CMI', 'BPT', 'TXK', 'SWO', 'SPS', 'DBQ', 'SJT', 'GGG', 'LSE', 'MQT', 'GCK', 'LBE', 'ACY', 'LYH', 'PGV', 'HVN', 'EWN', 'DHN', 'PIH', 'WYS', 'SCE', 'IMT', 'HLN', 'ASE', 'SUN', 'ISN', 'EAR', 'SGU', 'VEL', 'SHD', 'LWB', 'MKG', 'SLN', 'HYS', 'BFF', 'PUB', 'LBL', 'CMX', 'EAU', 'PAH', 'UIN', 'RKS', 'CGI', 'CNY', 'JMS', 'DVL', 'LAR', 'GCC', 'LBF', 'PRC', 'RDD', 'ACV', 'OTH', 'COD', 'LWS', 'ABR', 'APN', 'PLN', 'BJI', 'CPR', 'BRD', 'BTM', 'CDC', 'CIU', 'ESC', 'EKO', 'ITH', 'HIB', 'BGM', 'TWF', 'RHI', 'INL', 'FLG', 'YUM', 'MEI', 'PIB', 'HDN']\n"
     ]
    }
   ],
   "source": [
    "# to answer above questions, complete the following code\n",
    "print('The #rows and #columns are ', df_temp.shape[0], ' and ', df_temp.shape[1])\n",
    "print('The years in this dataset are: ', df_temp['Year'].unique().tolist())\n",
    "print('The months covered in this dataset are: ', df_temp['Month'].unique().tolist())\n",
    "print('The date range for data is :', df_temp['FlightDate'].min(), ' to ', df_temp['FlightDate'].max())\n",
    "print('The airlines covered in this dataset are: ', df_temp['Reporting_Airline'].unique().tolist())\n",
    "print('The Origin airports covered are: ', df_temp['Origin'].unique().tolist())\n",
    "print('The Destination airports covered are: ', df_temp['Dest'].unique().tolist())"
   ]
  },
  {
   "cell_type": "markdown",
   "metadata": {},
   "source": [
    "**Question**: What is the count of all the origin and destination airports?\n",
    "\n",
    "**Hint**: You can use the Pandas `values_count` function ([documentation](https://pandas.pydata.org/pandas-docs/stable/reference/api/pandas.Series.value_counts.html)) to find out the values for each airport using the columns `Origin` and `Dest`."
   ]
  },
  {
   "cell_type": "code",
   "execution_count": 16,
   "metadata": {
    "scrolled": true
   },
   "outputs": [
    {
     "data": {
      "text/html": [
       "<div>\n",
       "<style scoped>\n",
       "    .dataframe tbody tr th:only-of-type {\n",
       "        vertical-align: middle;\n",
       "    }\n",
       "\n",
       "    .dataframe tbody tr th {\n",
       "        vertical-align: top;\n",
       "    }\n",
       "\n",
       "    .dataframe thead th {\n",
       "        text-align: right;\n",
       "    }\n",
       "</style>\n",
       "<table border=\"1\" class=\"dataframe\">\n",
       "  <thead>\n",
       "    <tr style=\"text-align: right;\">\n",
       "      <th></th>\n",
       "      <th>Origin</th>\n",
       "      <th>Destination</th>\n",
       "    </tr>\n",
       "  </thead>\n",
       "  <tbody>\n",
       "    <tr>\n",
       "      <th>ABE</th>\n",
       "      <td>303</td>\n",
       "      <td>303</td>\n",
       "    </tr>\n",
       "    <tr>\n",
       "      <th>ABI</th>\n",
       "      <td>169</td>\n",
       "      <td>169</td>\n",
       "    </tr>\n",
       "    <tr>\n",
       "      <th>ABQ</th>\n",
       "      <td>2077</td>\n",
       "      <td>2076</td>\n",
       "    </tr>\n",
       "    <tr>\n",
       "      <th>ABR</th>\n",
       "      <td>60</td>\n",
       "      <td>60</td>\n",
       "    </tr>\n",
       "    <tr>\n",
       "      <th>ABY</th>\n",
       "      <td>79</td>\n",
       "      <td>79</td>\n",
       "    </tr>\n",
       "    <tr>\n",
       "      <th>...</th>\n",
       "      <td>...</td>\n",
       "      <td>...</td>\n",
       "    </tr>\n",
       "    <tr>\n",
       "      <th>WRG</th>\n",
       "      <td>60</td>\n",
       "      <td>60</td>\n",
       "    </tr>\n",
       "    <tr>\n",
       "      <th>WYS</th>\n",
       "      <td>52</td>\n",
       "      <td>52</td>\n",
       "    </tr>\n",
       "    <tr>\n",
       "      <th>XNA</th>\n",
       "      <td>1004</td>\n",
       "      <td>1004</td>\n",
       "    </tr>\n",
       "    <tr>\n",
       "      <th>YAK</th>\n",
       "      <td>60</td>\n",
       "      <td>60</td>\n",
       "    </tr>\n",
       "    <tr>\n",
       "      <th>YUM</th>\n",
       "      <td>96</td>\n",
       "      <td>96</td>\n",
       "    </tr>\n",
       "  </tbody>\n",
       "</table>\n",
       "<p>346 rows × 2 columns</p>\n",
       "</div>"
      ],
      "text/plain": [
       "     Origin  Destination\n",
       "ABE     303          303\n",
       "ABI     169          169\n",
       "ABQ    2077         2076\n",
       "ABR      60           60\n",
       "ABY      79           79\n",
       "..      ...          ...\n",
       "WRG      60           60\n",
       "WYS      52           52\n",
       "XNA    1004         1004\n",
       "YAK      60           60\n",
       "YUM      96           96\n",
       "\n",
       "[346 rows x 2 columns]"
      ]
     },
     "execution_count": 16,
     "metadata": {},
     "output_type": "execute_result"
    }
   ],
   "source": [
    "counts = pd.DataFrame({\n",
    "    'Origin': df_temp['Origin'].value_counts(),\n",
    "    'Destination': df_temp['Dest'].value_counts()\n",
    "})\n",
    "counts"
   ]
  },
  {
   "cell_type": "markdown",
   "metadata": {},
   "source": [
    "**Question**: Print the top 15 origin and destination airports based on number of flights in the dataset.\n",
    "\n",
    "**Hint**: You can use the Pandas `sort_values` function ([documentation](https://pandas.pydata.org/pandas-docs/stable/reference/api/pandas.DataFrame.sort_values.html))."
   ]
  },
  {
   "cell_type": "code",
   "execution_count": 17,
   "metadata": {
    "scrolled": true
   },
   "outputs": [
    {
     "data": {
      "text/html": [
       "<div>\n",
       "<style scoped>\n",
       "    .dataframe tbody tr th:only-of-type {\n",
       "        vertical-align: middle;\n",
       "    }\n",
       "\n",
       "    .dataframe tbody tr th {\n",
       "        vertical-align: top;\n",
       "    }\n",
       "\n",
       "    .dataframe thead th {\n",
       "        text-align: right;\n",
       "    }\n",
       "</style>\n",
       "<table border=\"1\" class=\"dataframe\">\n",
       "  <thead>\n",
       "    <tr style=\"text-align: right;\">\n",
       "      <th></th>\n",
       "      <th>Origin</th>\n",
       "      <th>Destination</th>\n",
       "    </tr>\n",
       "  </thead>\n",
       "  <tbody>\n",
       "    <tr>\n",
       "      <th>ATL</th>\n",
       "      <td>31525</td>\n",
       "      <td>31521</td>\n",
       "    </tr>\n",
       "    <tr>\n",
       "      <th>ORD</th>\n",
       "      <td>28257</td>\n",
       "      <td>28250</td>\n",
       "    </tr>\n",
       "    <tr>\n",
       "      <th>DFW</th>\n",
       "      <td>22802</td>\n",
       "      <td>22795</td>\n",
       "    </tr>\n",
       "    <tr>\n",
       "      <th>DEN</th>\n",
       "      <td>19807</td>\n",
       "      <td>19807</td>\n",
       "    </tr>\n",
       "    <tr>\n",
       "      <th>CLT</th>\n",
       "      <td>19655</td>\n",
       "      <td>19654</td>\n",
       "    </tr>\n",
       "    <tr>\n",
       "      <th>LAX</th>\n",
       "      <td>17875</td>\n",
       "      <td>17873</td>\n",
       "    </tr>\n",
       "    <tr>\n",
       "      <th>SFO</th>\n",
       "      <td>14332</td>\n",
       "      <td>14348</td>\n",
       "    </tr>\n",
       "    <tr>\n",
       "      <th>IAH</th>\n",
       "      <td>14210</td>\n",
       "      <td>14203</td>\n",
       "    </tr>\n",
       "    <tr>\n",
       "      <th>LGA</th>\n",
       "      <td>13850</td>\n",
       "      <td>13850</td>\n",
       "    </tr>\n",
       "    <tr>\n",
       "      <th>MSP</th>\n",
       "      <td>13349</td>\n",
       "      <td>13347</td>\n",
       "    </tr>\n",
       "    <tr>\n",
       "      <th>LAS</th>\n",
       "      <td>13318</td>\n",
       "      <td>13322</td>\n",
       "    </tr>\n",
       "    <tr>\n",
       "      <th>PHX</th>\n",
       "      <td>13126</td>\n",
       "      <td>13128</td>\n",
       "    </tr>\n",
       "    <tr>\n",
       "      <th>DTW</th>\n",
       "      <td>12725</td>\n",
       "      <td>12724</td>\n",
       "    </tr>\n",
       "    <tr>\n",
       "      <th>BOS</th>\n",
       "      <td>12223</td>\n",
       "      <td>12227</td>\n",
       "    </tr>\n",
       "    <tr>\n",
       "      <th>SEA</th>\n",
       "      <td>11872</td>\n",
       "      <td>11877</td>\n",
       "    </tr>\n",
       "  </tbody>\n",
       "</table>\n",
       "</div>"
      ],
      "text/plain": [
       "     Origin  Destination\n",
       "ATL   31525        31521\n",
       "ORD   28257        28250\n",
       "DFW   22802        22795\n",
       "DEN   19807        19807\n",
       "CLT   19655        19654\n",
       "LAX   17875        17873\n",
       "SFO   14332        14348\n",
       "IAH   14210        14203\n",
       "LGA   13850        13850\n",
       "MSP   13349        13347\n",
       "LAS   13318        13322\n",
       "PHX   13126        13128\n",
       "DTW   12725        12724\n",
       "BOS   12223        12227\n",
       "SEA   11872        11877"
      ]
     },
     "execution_count": 17,
     "metadata": {},
     "output_type": "execute_result"
    }
   ],
   "source": [
    "counts.sort_values(by='Origin', ascending=False).head(15)"
   ]
  },
  {
   "cell_type": "markdown",
   "metadata": {},
   "source": [
    "**Question**: Given all the information about a flight trip, can you predict if it would be delayed?"
   ]
  },
  {
   "cell_type": "markdown",
   "metadata": {},
   "source": [
    "Yes — based on the features provided in the dataset, it is feasible to predict whether a flight will be delayed.  \n",
    "The dataset includes a rich set of attributes such as:\n",
    "\n",
    "- **Temporal features** — Year, Month, DayOfWeek, FlightDate, CRSDepTime, CRSArrTime  \n",
    "- **Flight identifiers** — Reporting_Airline, Flight_Number_Reporting_Airline, Tail_Number  \n",
    "- **Route information** — Origin, Destination, Distance  \n",
    "- **Operational details** — TaxiOut, AirTime, CarrierDelay, WeatherDelay, NASDelay, SecurityDelay, LateAircraftDelay  \n",
    "\n",
    "Using these variables, a supervised machine learning model (e.g., Logistic Regression, Random Forest, or Gradient Boosted Trees) can learn the patterns that typically lead to flight delays.  \n",
    "\n",
    "The target variable would be binary (e.g., `Delayed` = 1 if the flight’s arrival or departure delay exceeds 15 minutes, otherwise 0).  \n",
    "Thus, the problem is a classification task — predicting the likelihood that a scheduled flight will experience a delay."
   ]
  },
  {
   "cell_type": "markdown",
   "metadata": {},
   "source": [
    "Now, assume you are traveling from San Francisco to Los Angeles on a work trip. You want to have an ideas if your flight will be delayed, given a set of features, so that you can manage your reservations in Los Angeles better. How many features from this dataset would you know before your flight?\n",
    "\n",
    "Columns such as `DepDelay`, `ArrDelay`, `CarrierDelay`, `WeatherDelay`, `NASDelay`, `SecurityDelay`, `LateAircraftDelay`, and `DivArrDelay` contain information about a delay. But this delay could have occured at the origin or destination. If there were a sudden weather delay 10 minutes before landing, this data would not be helpful in managing your Los Angeles reservations.\n",
    "\n",
    "So to simplify the problem statement, consider the following columns to predict an arrival delay:<br>\n",
    "\n",
    "`Year`, `Quarter`, `Month`, `DayofMonth`, `DayOfWeek`, `FlightDate`, `Reporting_Airline`, `Origin`, `OriginState`, `Dest`, `DestState`, `CRSDepTime`, `DepDelayMinutes`, `DepartureDelayGroups`, `Cancelled`, `Diverted`, `Distance`, `DistanceGroup`, `ArrDelay`, `ArrDelayMinutes`, `ArrDel15`, `AirTime`\n",
    "\n",
    "You will also filter the source and destination airports to be:\n",
    "- Top airports: ATL, ORD, DFW, DEN, CLT, LAX, IAH, PHX, SFO\n",
    "- Top 5 airlines: UA, OO, WN, AA, DL\n",
    "\n",
    "This should help in reducing the size of data across the CSV files to be combined."
   ]
  },
  {
   "cell_type": "markdown",
   "metadata": {},
   "source": [
    "#### Combine all CSV files\n",
    "\n",
    "**Hint**:  \n",
    "First, create an empy dataframe that you will use to copy your individual dataframes from each file. Then, for each file in the `csv_files` list:\n",
    "\n",
    "1. Read the CSV file into a dataframe  \n",
    "2. Filter the columns based on the `filter_cols` variable\n",
    "\n",
    "```\n",
    "        columns = ['col1', 'col2']\n",
    "        df_filter = df[columns]\n",
    "```\n",
    "\n",
    "3. Keep only the subset_vals in each of the subset_cols. Use the `isin` Pandas function ([documentation](https://pandas.pydata.org/pandas-docs/stable/reference/api/pandas.DataFrame.isin.html)) to check if the `val` is in the dataframe column and then choose the rows that include it.\n",
    "\n",
    "```\n",
    "        df_eg[df_eg['col1'].isin('5')]\n",
    "```\n",
    "\n",
    "4. Concatenate the dataframe with the empty dataframe "
   ]
  },
  {
   "cell_type": "code",
   "execution_count": 18,
   "metadata": {},
   "outputs": [],
   "source": [
    "def combine_csv(csv_files, filter_cols, subset_cols, subset_vals, file_name):\n",
    "    '''\n",
    "    Combine csv files into one Data Frame\n",
    "    csv_files: list of csv file paths\n",
    "    filter_cols: list of columns to filter\n",
    "    subset_cols: list of columns to subset rows\n",
    "    subset_vals: list of list of values to subset rows\n",
    "    '''\n",
    "    # Create an empty dataframe\n",
    "    df = pd.DataFrame()\n",
    "\n",
    "    # Loop through each CSV file\n",
    "    for file in csv_files:\n",
    "        try:\n",
    "            temp_df = pd.read_csv(file, usecols=filter_cols, low_memory=False)\n",
    "            \n",
    "            # Filter the subset columns (like top airports and airlines)\n",
    "            for col, vals in zip(subset_cols, subset_vals):\n",
    "                temp_df = temp_df[temp_df[col].isin(vals)]\n",
    "            \n",
    "            # Concatenate to master dataframe\n",
    "            df = pd.concat([df, temp_df], ignore_index=True)\n",
    "            \n",
    "            print(f'Loaded and filtered: {file}')\n",
    "        except Exception as e:\n",
    "            print(f'Failed to process {file}: {e}')\n",
    "    \n",
    "    # Save combined dataframe to a CSV file\n",
    "    df.to_csv(file_name, index=False)\n",
    "    print(f'\\nCombined data saved as {file_name}')"
   ]
  },
  {
   "cell_type": "code",
   "execution_count": 19,
   "metadata": {},
   "outputs": [],
   "source": [
    "#cols is the list of columns to predict Arrival Delay \n",
    "cols = ['Year','Quarter','Month','DayofMonth','DayOfWeek','FlightDate',\n",
    "        'Reporting_Airline','Origin','OriginState','Dest','DestState',\n",
    "        'CRSDepTime','Cancelled','Diverted','Distance','DistanceGroup',\n",
    "        'ArrDelay','ArrDelayMinutes','ArrDel15','AirTime']\n",
    "\n",
    "subset_cols = ['Origin', 'Dest', 'Reporting_Airline']\n",
    "\n",
    "# subset_vals is a list collection of the top origin and destination airports and top 5 airlines\n",
    "subset_vals = [['ATL', 'ORD', 'DFW', 'DEN', 'CLT', 'LAX', 'IAH', 'PHX', 'SFO'], \n",
    "               ['ATL', 'ORD', 'DFW', 'DEN', 'CLT', 'LAX', 'IAH', 'PHX', 'SFO'], \n",
    "               ['UA', 'OO', 'WN', 'AA', 'DL']]"
   ]
  },
  {
   "cell_type": "markdown",
   "metadata": {},
   "source": [
    "Use the function above to merge all the different files into a single file that you can read easily. \n",
    "\n",
    "**Note**: This will take 5-7 minutes to complete."
   ]
  },
  {
   "cell_type": "code",
   "execution_count": 22,
   "metadata": {
    "scrolled": true
   },
   "outputs": [
    {
     "name": "stdout",
     "output_type": "stream",
     "text": [
      "Loaded and filtered: data/data_uncompressed\\On_Time_Reporting_Carrier_On_Time_Performance_(1987_present)_2014_1.csv\n",
      "Loaded and filtered: data/data_uncompressed\\On_Time_Reporting_Carrier_On_Time_Performance_(1987_present)_2014_10.csv\n",
      "Loaded and filtered: data/data_uncompressed\\On_Time_Reporting_Carrier_On_Time_Performance_(1987_present)_2014_11.csv\n",
      "Loaded and filtered: data/data_uncompressed\\On_Time_Reporting_Carrier_On_Time_Performance_(1987_present)_2014_12.csv\n",
      "Loaded and filtered: data/data_uncompressed\\On_Time_Reporting_Carrier_On_Time_Performance_(1987_present)_2014_2.csv\n",
      "Loaded and filtered: data/data_uncompressed\\On_Time_Reporting_Carrier_On_Time_Performance_(1987_present)_2014_3.csv\n",
      "Loaded and filtered: data/data_uncompressed\\On_Time_Reporting_Carrier_On_Time_Performance_(1987_present)_2014_4.csv\n",
      "Loaded and filtered: data/data_uncompressed\\On_Time_Reporting_Carrier_On_Time_Performance_(1987_present)_2014_5.csv\n",
      "Loaded and filtered: data/data_uncompressed\\On_Time_Reporting_Carrier_On_Time_Performance_(1987_present)_2014_6.csv\n",
      "Loaded and filtered: data/data_uncompressed\\On_Time_Reporting_Carrier_On_Time_Performance_(1987_present)_2014_7.csv\n",
      "Loaded and filtered: data/data_uncompressed\\On_Time_Reporting_Carrier_On_Time_Performance_(1987_present)_2014_8.csv\n",
      "Loaded and filtered: data/data_uncompressed\\On_Time_Reporting_Carrier_On_Time_Performance_(1987_present)_2014_9.csv\n",
      "Loaded and filtered: data/data_uncompressed\\On_Time_Reporting_Carrier_On_Time_Performance_(1987_present)_2015_1.csv\n",
      "Loaded and filtered: data/data_uncompressed\\On_Time_Reporting_Carrier_On_Time_Performance_(1987_present)_2015_10.csv\n",
      "Loaded and filtered: data/data_uncompressed\\On_Time_Reporting_Carrier_On_Time_Performance_(1987_present)_2015_11.csv\n",
      "Loaded and filtered: data/data_uncompressed\\On_Time_Reporting_Carrier_On_Time_Performance_(1987_present)_2015_12.csv\n",
      "Loaded and filtered: data/data_uncompressed\\On_Time_Reporting_Carrier_On_Time_Performance_(1987_present)_2015_2.csv\n",
      "Loaded and filtered: data/data_uncompressed\\On_Time_Reporting_Carrier_On_Time_Performance_(1987_present)_2015_3.csv\n",
      "Loaded and filtered: data/data_uncompressed\\On_Time_Reporting_Carrier_On_Time_Performance_(1987_present)_2015_4.csv\n",
      "Loaded and filtered: data/data_uncompressed\\On_Time_Reporting_Carrier_On_Time_Performance_(1987_present)_2015_5.csv\n",
      "Loaded and filtered: data/data_uncompressed\\On_Time_Reporting_Carrier_On_Time_Performance_(1987_present)_2015_6.csv\n",
      "Loaded and filtered: data/data_uncompressed\\On_Time_Reporting_Carrier_On_Time_Performance_(1987_present)_2015_7.csv\n",
      "Loaded and filtered: data/data_uncompressed\\On_Time_Reporting_Carrier_On_Time_Performance_(1987_present)_2015_8.csv\n",
      "Loaded and filtered: data/data_uncompressed\\On_Time_Reporting_Carrier_On_Time_Performance_(1987_present)_2015_9.csv\n",
      "Loaded and filtered: data/data_uncompressed\\On_Time_Reporting_Carrier_On_Time_Performance_(1987_present)_2016_1.csv\n",
      "Loaded and filtered: data/data_uncompressed\\On_Time_Reporting_Carrier_On_Time_Performance_(1987_present)_2016_10.csv\n",
      "Loaded and filtered: data/data_uncompressed\\On_Time_Reporting_Carrier_On_Time_Performance_(1987_present)_2016_11.csv\n",
      "Loaded and filtered: data/data_uncompressed\\On_Time_Reporting_Carrier_On_Time_Performance_(1987_present)_2016_12.csv\n",
      "Loaded and filtered: data/data_uncompressed\\On_Time_Reporting_Carrier_On_Time_Performance_(1987_present)_2016_2.csv\n",
      "Loaded and filtered: data/data_uncompressed\\On_Time_Reporting_Carrier_On_Time_Performance_(1987_present)_2016_3.csv\n",
      "Loaded and filtered: data/data_uncompressed\\On_Time_Reporting_Carrier_On_Time_Performance_(1987_present)_2016_4.csv\n",
      "Loaded and filtered: data/data_uncompressed\\On_Time_Reporting_Carrier_On_Time_Performance_(1987_present)_2016_5.csv\n",
      "Loaded and filtered: data/data_uncompressed\\On_Time_Reporting_Carrier_On_Time_Performance_(1987_present)_2016_6.csv\n",
      "Loaded and filtered: data/data_uncompressed\\On_Time_Reporting_Carrier_On_Time_Performance_(1987_present)_2016_7.csv\n",
      "Loaded and filtered: data/data_uncompressed\\On_Time_Reporting_Carrier_On_Time_Performance_(1987_present)_2016_8.csv\n",
      "Loaded and filtered: data/data_uncompressed\\On_Time_Reporting_Carrier_On_Time_Performance_(1987_present)_2016_9.csv\n",
      "Loaded and filtered: data/data_uncompressed\\On_Time_Reporting_Carrier_On_Time_Performance_(1987_present)_2017_1.csv\n",
      "Loaded and filtered: data/data_uncompressed\\On_Time_Reporting_Carrier_On_Time_Performance_(1987_present)_2017_10.csv\n",
      "Loaded and filtered: data/data_uncompressed\\On_Time_Reporting_Carrier_On_Time_Performance_(1987_present)_2017_11.csv\n",
      "Loaded and filtered: data/data_uncompressed\\On_Time_Reporting_Carrier_On_Time_Performance_(1987_present)_2017_12.csv\n",
      "Loaded and filtered: data/data_uncompressed\\On_Time_Reporting_Carrier_On_Time_Performance_(1987_present)_2017_2.csv\n",
      "Loaded and filtered: data/data_uncompressed\\On_Time_Reporting_Carrier_On_Time_Performance_(1987_present)_2017_3.csv\n",
      "Loaded and filtered: data/data_uncompressed\\On_Time_Reporting_Carrier_On_Time_Performance_(1987_present)_2017_4.csv\n",
      "Loaded and filtered: data/data_uncompressed\\On_Time_Reporting_Carrier_On_Time_Performance_(1987_present)_2017_5.csv\n",
      "Loaded and filtered: data/data_uncompressed\\On_Time_Reporting_Carrier_On_Time_Performance_(1987_present)_2017_6.csv\n",
      "Loaded and filtered: data/data_uncompressed\\On_Time_Reporting_Carrier_On_Time_Performance_(1987_present)_2017_7.csv\n",
      "Loaded and filtered: data/data_uncompressed\\On_Time_Reporting_Carrier_On_Time_Performance_(1987_present)_2017_8.csv\n",
      "Loaded and filtered: data/data_uncompressed\\On_Time_Reporting_Carrier_On_Time_Performance_(1987_present)_2017_9.csv\n",
      "Loaded and filtered: data/data_uncompressed\\On_Time_Reporting_Carrier_On_Time_Performance_(1987_present)_2018_1.csv\n",
      "Loaded and filtered: data/data_uncompressed\\On_Time_Reporting_Carrier_On_Time_Performance_(1987_present)_2018_10.csv\n",
      "Loaded and filtered: data/data_uncompressed\\On_Time_Reporting_Carrier_On_Time_Performance_(1987_present)_2018_11.csv\n",
      "Loaded and filtered: data/data_uncompressed\\On_Time_Reporting_Carrier_On_Time_Performance_(1987_present)_2018_12.csv\n",
      "Loaded and filtered: data/data_uncompressed\\On_Time_Reporting_Carrier_On_Time_Performance_(1987_present)_2018_2.csv\n",
      "Loaded and filtered: data/data_uncompressed\\On_Time_Reporting_Carrier_On_Time_Performance_(1987_present)_2018_3.csv\n",
      "Loaded and filtered: data/data_uncompressed\\On_Time_Reporting_Carrier_On_Time_Performance_(1987_present)_2018_4.csv\n",
      "Loaded and filtered: data/data_uncompressed\\On_Time_Reporting_Carrier_On_Time_Performance_(1987_present)_2018_5.csv\n",
      "Loaded and filtered: data/data_uncompressed\\On_Time_Reporting_Carrier_On_Time_Performance_(1987_present)_2018_6.csv\n",
      "Loaded and filtered: data/data_uncompressed\\On_Time_Reporting_Carrier_On_Time_Performance_(1987_present)_2018_7.csv\n",
      "Loaded and filtered: data/data_uncompressed\\On_Time_Reporting_Carrier_On_Time_Performance_(1987_present)_2018_8.csv\n",
      "Loaded and filtered: data/data_uncompressed\\On_Time_Reporting_Carrier_On_Time_Performance_(1987_present)_2018_9.csv\n",
      "\n",
      "Combined data saved as data//combined_files.csv\n",
      "csv's merged in 3.72 minutes\n"
     ]
    }
   ],
   "source": [
    "start = time.time()\n",
    "\n",
    "combined_csv_filename = f\"{combined_df_path}/combined_files.csv\"\n",
    "\n",
    "# Call the combine_csv function\n",
    "combined_df = combine_csv(\n",
    "    csv_files=csv_files,\n",
    "    filter_cols=cols,\n",
    "    subset_cols=subset_cols,\n",
    "    subset_vals=subset_vals,\n",
    "    file_name=combined_csv_filename\n",
    ")\n",
    "\n",
    "print(f\"csv's merged in {round((time.time() - start)/60, 2)} minutes\")"
   ]
  },
  {
   "cell_type": "markdown",
   "metadata": {},
   "source": [
    "#### Load dataset\n",
    "\n",
    "Load the combined dataset."
   ]
  },
  {
   "cell_type": "code",
   "execution_count": 41,
   "metadata": {},
   "outputs": [],
   "source": [
    "data = pd.read_csv('data/combined_files.csv')# Enter your code here to read the combined csv file."
   ]
  },
  {
   "cell_type": "markdown",
   "metadata": {},
   "source": [
    "Print the first 5 records."
   ]
  },
  {
   "cell_type": "code",
   "execution_count": 42,
   "metadata": {},
   "outputs": [
    {
     "data": {
      "text/html": [
       "<div>\n",
       "<style scoped>\n",
       "    .dataframe tbody tr th:only-of-type {\n",
       "        vertical-align: middle;\n",
       "    }\n",
       "\n",
       "    .dataframe tbody tr th {\n",
       "        vertical-align: top;\n",
       "    }\n",
       "\n",
       "    .dataframe thead th {\n",
       "        text-align: right;\n",
       "    }\n",
       "</style>\n",
       "<table border=\"1\" class=\"dataframe\">\n",
       "  <thead>\n",
       "    <tr style=\"text-align: right;\">\n",
       "      <th></th>\n",
       "      <th>Year</th>\n",
       "      <th>Quarter</th>\n",
       "      <th>Month</th>\n",
       "      <th>DayofMonth</th>\n",
       "      <th>DayOfWeek</th>\n",
       "      <th>FlightDate</th>\n",
       "      <th>Reporting_Airline</th>\n",
       "      <th>Origin</th>\n",
       "      <th>OriginState</th>\n",
       "      <th>Dest</th>\n",
       "      <th>DestState</th>\n",
       "      <th>CRSDepTime</th>\n",
       "      <th>ArrDelay</th>\n",
       "      <th>ArrDelayMinutes</th>\n",
       "      <th>ArrDel15</th>\n",
       "      <th>Cancelled</th>\n",
       "      <th>Diverted</th>\n",
       "      <th>AirTime</th>\n",
       "      <th>Distance</th>\n",
       "      <th>DistanceGroup</th>\n",
       "    </tr>\n",
       "  </thead>\n",
       "  <tbody>\n",
       "    <tr>\n",
       "      <th>0</th>\n",
       "      <td>2014</td>\n",
       "      <td>1</td>\n",
       "      <td>1</td>\n",
       "      <td>26</td>\n",
       "      <td>7</td>\n",
       "      <td>2014-01-26</td>\n",
       "      <td>DL</td>\n",
       "      <td>ATL</td>\n",
       "      <td>GA</td>\n",
       "      <td>IAH</td>\n",
       "      <td>TX</td>\n",
       "      <td>2145</td>\n",
       "      <td>-20.0</td>\n",
       "      <td>0.0</td>\n",
       "      <td>0.0</td>\n",
       "      <td>0.0</td>\n",
       "      <td>0.0</td>\n",
       "      <td>99.0</td>\n",
       "      <td>689.0</td>\n",
       "      <td>3</td>\n",
       "    </tr>\n",
       "    <tr>\n",
       "      <th>1</th>\n",
       "      <td>2014</td>\n",
       "      <td>1</td>\n",
       "      <td>1</td>\n",
       "      <td>26</td>\n",
       "      <td>7</td>\n",
       "      <td>2014-01-26</td>\n",
       "      <td>DL</td>\n",
       "      <td>DFW</td>\n",
       "      <td>TX</td>\n",
       "      <td>ATL</td>\n",
       "      <td>GA</td>\n",
       "      <td>945</td>\n",
       "      <td>-3.0</td>\n",
       "      <td>0.0</td>\n",
       "      <td>0.0</td>\n",
       "      <td>0.0</td>\n",
       "      <td>0.0</td>\n",
       "      <td>98.0</td>\n",
       "      <td>731.0</td>\n",
       "      <td>3</td>\n",
       "    </tr>\n",
       "    <tr>\n",
       "      <th>2</th>\n",
       "      <td>2014</td>\n",
       "      <td>1</td>\n",
       "      <td>1</td>\n",
       "      <td>26</td>\n",
       "      <td>7</td>\n",
       "      <td>2014-01-26</td>\n",
       "      <td>DL</td>\n",
       "      <td>ATL</td>\n",
       "      <td>GA</td>\n",
       "      <td>DEN</td>\n",
       "      <td>CO</td>\n",
       "      <td>1855</td>\n",
       "      <td>-7.0</td>\n",
       "      <td>0.0</td>\n",
       "      <td>0.0</td>\n",
       "      <td>0.0</td>\n",
       "      <td>0.0</td>\n",
       "      <td>174.0</td>\n",
       "      <td>1199.0</td>\n",
       "      <td>5</td>\n",
       "    </tr>\n",
       "    <tr>\n",
       "      <th>3</th>\n",
       "      <td>2014</td>\n",
       "      <td>1</td>\n",
       "      <td>1</td>\n",
       "      <td>26</td>\n",
       "      <td>7</td>\n",
       "      <td>2014-01-26</td>\n",
       "      <td>DL</td>\n",
       "      <td>ATL</td>\n",
       "      <td>GA</td>\n",
       "      <td>PHX</td>\n",
       "      <td>AZ</td>\n",
       "      <td>1634</td>\n",
       "      <td>-4.0</td>\n",
       "      <td>0.0</td>\n",
       "      <td>0.0</td>\n",
       "      <td>0.0</td>\n",
       "      <td>0.0</td>\n",
       "      <td>233.0</td>\n",
       "      <td>1587.0</td>\n",
       "      <td>7</td>\n",
       "    </tr>\n",
       "    <tr>\n",
       "      <th>4</th>\n",
       "      <td>2014</td>\n",
       "      <td>1</td>\n",
       "      <td>1</td>\n",
       "      <td>26</td>\n",
       "      <td>7</td>\n",
       "      <td>2014-01-26</td>\n",
       "      <td>DL</td>\n",
       "      <td>PHX</td>\n",
       "      <td>AZ</td>\n",
       "      <td>ATL</td>\n",
       "      <td>GA</td>\n",
       "      <td>700</td>\n",
       "      <td>-13.0</td>\n",
       "      <td>0.0</td>\n",
       "      <td>0.0</td>\n",
       "      <td>0.0</td>\n",
       "      <td>0.0</td>\n",
       "      <td>179.0</td>\n",
       "      <td>1587.0</td>\n",
       "      <td>7</td>\n",
       "    </tr>\n",
       "  </tbody>\n",
       "</table>\n",
       "</div>"
      ],
      "text/plain": [
       "   Year  Quarter  Month  DayofMonth  DayOfWeek  FlightDate Reporting_Airline  \\\n",
       "0  2014        1      1          26          7  2014-01-26                DL   \n",
       "1  2014        1      1          26          7  2014-01-26                DL   \n",
       "2  2014        1      1          26          7  2014-01-26                DL   \n",
       "3  2014        1      1          26          7  2014-01-26                DL   \n",
       "4  2014        1      1          26          7  2014-01-26                DL   \n",
       "\n",
       "  Origin OriginState Dest DestState  CRSDepTime  ArrDelay  ArrDelayMinutes  \\\n",
       "0    ATL          GA  IAH        TX        2145     -20.0              0.0   \n",
       "1    DFW          TX  ATL        GA         945      -3.0              0.0   \n",
       "2    ATL          GA  DEN        CO        1855      -7.0              0.0   \n",
       "3    ATL          GA  PHX        AZ        1634      -4.0              0.0   \n",
       "4    PHX          AZ  ATL        GA         700     -13.0              0.0   \n",
       "\n",
       "   ArrDel15  Cancelled  Diverted  AirTime  Distance  DistanceGroup  \n",
       "0       0.0        0.0       0.0     99.0     689.0              3  \n",
       "1       0.0        0.0       0.0     98.0     731.0              3  \n",
       "2       0.0        0.0       0.0    174.0    1199.0              5  \n",
       "3       0.0        0.0       0.0    233.0    1587.0              7  \n",
       "4       0.0        0.0       0.0    179.0    1587.0              7  "
      ]
     },
     "execution_count": 42,
     "metadata": {},
     "output_type": "execute_result"
    }
   ],
   "source": [
    "data.head(5)"
   ]
  },
  {
   "cell_type": "markdown",
   "metadata": {},
   "source": [
    "Here are some more questions to help you find out more about your dataset.\n",
    "\n",
    "**Questions**   \n",
    "1. How many rows and columns does the dataset have?   \n",
    "2. How many years are included in the dataset?   \n",
    "3. What is the date range for the dataset?   \n",
    "4. Which airlines are included in the dataset?   \n",
    "5. Which origin and destination airports are covered?"
   ]
  },
  {
   "cell_type": "code",
   "execution_count": 43,
   "metadata": {},
   "outputs": [
    {
     "name": "stdout",
     "output_type": "stream",
     "text": [
      "The #rows and #columns are  1658130  and  20\n",
      "The years in this dataset are:  [2014, 2015, 2016, 2017, 2018]\n",
      "The months covered in this dataset are:  [1, 2, 3, 4, 5, 6, 7, 8, 9, 10, 11, 12]\n",
      "The date range for data is : 2014-01-01  to  2018-12-31\n",
      "The airlines covered in this dataset are:  ['DL', 'OO', 'WN', 'UA', 'AA']\n",
      "The Origin airports covered are:  ['ATL', 'DFW', 'PHX', 'DEN', 'IAH', 'CLT', 'SFO', 'LAX', 'ORD']\n",
      "The Destination airports covered are:  ['IAH', 'ATL', 'DEN', 'PHX', 'CLT', 'LAX', 'DFW', 'SFO', 'ORD']\n"
     ]
    }
   ],
   "source": [
    "# to answer above questions, complete the following code\n",
    "print('The #rows and #columns are ', data.shape[0], ' and ', data.shape[1])\n",
    "print('The years in this dataset are: ', list(data['Year'].unique()))\n",
    "print('The months covered in this dataset are: ', sorted(list(data['Month'].unique())))\n",
    "print('The date range for data is :', data['FlightDate'].min(), ' to ', data['FlightDate'].max())\n",
    "print('The airlines covered in this dataset are: ', list(data['Reporting_Airline'].unique()))\n",
    "print('The Origin airports covered are: ', list(data['Origin'].unique()))\n",
    "print('The Destination airports covered are: ', list(data['Dest'].unique()))"
   ]
  },
  {
   "cell_type": "markdown",
   "metadata": {},
   "source": [
    "Let's define our **target column : is_delay** (1 - if arrival time delayed more than 15 minutes, 0 - otherwise). Use the `rename` method to rename the column from `ArrDel15` to `is_delay`.\n",
    "\n",
    "**Hint**: You can use the Pandas `rename` function ([documentation](https://pandas.pydata.org/pandas-docs/stable/reference/api/pandas.DataFrame.rename.html)).\n",
    "\n",
    "For example:\n",
    "```\n",
    "df.rename(columns={'col1':'column1'}, inplace=True)\n",
    "```"
   ]
  },
  {
   "cell_type": "code",
   "execution_count": 44,
   "metadata": {},
   "outputs": [],
   "source": [
    "data.rename(columns={'ArrDel15': 'is_delay'}, inplace=True)"
   ]
  },
  {
   "cell_type": "markdown",
   "metadata": {},
   "source": [
    "Look for nulls across columns. You can use the `isnull()` function ([documentation](https://pandas.pydata.org/pandas-docs/version/0.17.0/generated/pandas.isnull.html)).\n",
    "\n",
    "**Hint**: `isnull()` detects whether the particular value is null or not and gives you a boolean (True or False) in its place. Use the `sum(axis=0)` function to sum up the number of columns."
   ]
  },
  {
   "cell_type": "code",
   "execution_count": 45,
   "metadata": {
    "scrolled": true
   },
   "outputs": [
    {
     "name": "stdout",
     "output_type": "stream",
     "text": [
      "Number of null values in each column:\n",
      "Year                     0\n",
      "Quarter                  0\n",
      "Month                    0\n",
      "DayofMonth               0\n",
      "DayOfWeek                0\n",
      "FlightDate               0\n",
      "Reporting_Airline        0\n",
      "Origin                   0\n",
      "OriginState              0\n",
      "Dest                     0\n",
      "DestState                0\n",
      "CRSDepTime               0\n",
      "ArrDelay             22540\n",
      "ArrDelayMinutes      22540\n",
      "is_delay             22540\n",
      "Cancelled                0\n",
      "Diverted                 0\n",
      "AirTime              22540\n",
      "Distance                 0\n",
      "DistanceGroup            0\n",
      "dtype: int64\n"
     ]
    }
   ],
   "source": [
    "# Check for missing values in each column\n",
    "null_counts = data.isnull().sum(axis=0)\n",
    "\n",
    "print('Number of null values in each column:')\n",
    "print(null_counts)"
   ]
  },
  {
   "cell_type": "markdown",
   "metadata": {},
   "source": [
    "The arrival delay details and airtime are missing for 22540 out of 1658130 rows, which is 1.3%. You can either remove or impute these rows. The documentation does not mention anything about missing rows.\n",
    "\n",
    "**Hint**: Use the `~` operator to choose the values that aren't null from the `isnull()` output.\n",
    "\n",
    "For example:\n",
    "```\n",
    "null_eg = df_eg[~df_eg['column_name'].isnull()]\n",
    "```"
   ]
  },
  {
   "cell_type": "code",
   "execution_count": 46,
   "metadata": {},
   "outputs": [],
   "source": [
    "### Remove null columns\n",
    "data = data[~data['ArrDelayMinutes'].isnull() & ~data['AirTime'].isnull()]"
   ]
  },
  {
   "cell_type": "markdown",
   "metadata": {},
   "source": [
    "Get the hour of the day in 24-hour time format from CRSDepTime."
   ]
  },
  {
   "cell_type": "code",
   "execution_count": 47,
   "metadata": {},
   "outputs": [
    {
     "name": "stdout",
     "output_type": "stream",
     "text": [
      "   CRSDepTime  DepHourofDay\n",
      "0        2145            21\n",
      "1         945             9\n",
      "2        1855            18\n",
      "3        1634            16\n",
      "4         700             7\n"
     ]
    }
   ],
   "source": [
    "data['DepHourofDay'] = data['CRSDepTime'] // 100\n",
    "print(data[['CRSDepTime', 'DepHourofDay']].head())"
   ]
  },
  {
   "cell_type": "markdown",
   "metadata": {},
   "source": [
    "## **The ML problem statement**\n",
    "- Given a set of features, can you predict if a flight is going to be delayed more than 15 minutes?\n",
    "- Because the target variable takes only 0/1 value, you could use a classification algorithm. "
   ]
  },
  {
   "cell_type": "markdown",
   "metadata": {},
   "source": [
    "### Data exploration\n",
    "\n",
    "#### Check class delay vs. no delay\n",
    "\n",
    "**Hint**: Use a `groupby` plot ([documentation](https://pandas.pydata.org/pandas-docs/stable/reference/api/pandas.DataFrame.groupby.html)) with a `bar` plot ([documentation](https://matplotlib.org/tutorials/introductory/pyplot.html)) to plot the frequency vs. distribution of the class."
   ]
  },
  {
   "cell_type": "code",
   "execution_count": 31,
   "metadata": {},
   "outputs": [
    {
     "data": {
      "image/png": "[encoded data removed]",
      "text/plain": [
       "<Figure size 640x480 with 1 Axes>"
      ]
     },
     "metadata": {},
     "output_type": "display_data"
    }
   ],
   "source": [
    "(data.groupby('is_delay').size() / len(data)).plot(kind='bar') # Enter your code here\n",
    "plt.ylabel('Frequency')\n",
    "plt.title('Distribution of classes')\n",
    "plt.show()"
   ]
  },
  {
   "cell_type": "markdown",
   "metadata": {},
   "source": [
    "**Question**: What can you deduce from the bar plot about the ratio of delay vs. no delay?"
   ]
  },
  {
   "cell_type": "markdown",
   "metadata": {},
   "source": [
    "The bar plot shows that the dataset is imbalanced — the majority of flights (around 80%) are on time (no delay), while only about 20% of flights are delayed by more than 15 minutes.\n",
    "\n",
    "This class imbalance indicates that:\n",
    "- The no-delay (0) class dominates the dataset.\n",
    "- A naïve model predicting “no delay” for all flights could achieve high accuracy but poor recall for the delayed class.\n",
    "- During model training, it will be important to use techniques such as class weighting, resampling (e.g., SMOTE or undersampling), or evaluation metrics like F1-score, Precision-Recall, or ROC-AUC to ensure balanced performance across both classes."
   ]
  },
  {
   "cell_type": "markdown",
   "metadata": {},
   "source": [
    "**Questions**: \n",
    "\n",
    "- Which months have the most delays?\n",
    "- What time of the day has the most delays?\n",
    "- What day of the week has the most delays?\n",
    "- Which airline has the most delays?\n",
    "- Which origin and destination airports have the most delays?\n",
    "- Is flight distance a factor in the delays?"
   ]
  },
  {
   "cell_type": "code",
   "execution_count": 32,
   "metadata": {},
   "outputs": [
    {
     "data": {
      "image/png": "[encoded data removed]",
      "text/plain": [
       "<Figure size 2000x2000 with 6 Axes>"
      ]
     },
     "metadata": {},
     "output_type": "display_data"
    }
   ],
   "source": [
    "viz_columns = ['Month', 'DepHourofDay', 'DayOfWeek', 'Reporting_Airline', 'Origin', 'Dest']\n",
    "fig, axes = plt.subplots(3, 2, figsize=(20,20), squeeze=False)\n",
    "# fig.autofmt_xdate(rotation=90)\n",
    "\n",
    "for idx, column in enumerate(viz_columns):\n",
    "    ax = axes[idx//2, idx%2]\n",
    "    temp = data.groupby(column)['is_delay'].value_counts(normalize=True).rename('percentage').\\\n",
    "    mul(100).reset_index().sort_values(column)\n",
    "    sns.barplot(x=column, y='percentage', hue='is_delay', data=temp, ax=ax)\n",
    "    plt.ylabel('% delay/no-delay')\n",
    "    \n",
    "\n",
    "plt.show()"
   ]
  },
  {
   "cell_type": "code",
   "execution_count": 33,
   "metadata": {},
   "outputs": [
    {
     "data": {
      "image/png": "[encoded data removed]",
      "text/plain": [
       "<Figure size 500x500 with 1 Axes>"
      ]
     },
     "metadata": {},
     "output_type": "display_data"
    }
   ],
   "source": [
    "sns.lmplot( x='is_delay', y='Distance', data=data, fit_reg=False, hue='is_delay', legend=False)\n",
    "plt.legend(loc='center')\n",
    "plt.xlabel('is_delay')\n",
    "plt.ylabel('Distance')\n",
    "plt.show()"
   ]
  },
  {
   "cell_type": "markdown",
   "metadata": {},
   "source": [
    "#### 1. Which months have the most delays?\n",
    "- Delays occur throughout the year with a fairly consistent proportion across months.  \n",
    "- Slightly higher delay frequencies appear around June to August and December, which could correspond to busy travel seasons and weather-related issues.\n",
    "\n",
    "#### 2. What time of the day has the most delays?\n",
    "- The early morning flights (around 5–8 AM) have the lowest delay rates, likely because the aircraft are already positioned from the night before.  \n",
    "- Delays increase through the afternoon and evening, peaking between 4 PM and 8 PM, as cumulative operational delays and air traffic congestion build up during the day.\n",
    "\n",
    "#### 3. What day of the week has the most delays?\n",
    "- The delay distribution is relatively consistent across all days, though Fridays and Sundays show a slightly higher proportion of delays, likely due to increased passenger volume and end-of-week travel demand.\n",
    "\n",
    "#### 4. Which airline has the most delays?\n",
    "- Based on the plot, OO and WN show higher delay proportions, while DL and UA tend to have slightly better on-time performance.  \n",
    "- This could be due to differences in hub congestion, fleet scheduling, or route networks.\n",
    "\n",
    "#### 5. Which origin and destination airports have the most delays?\n",
    "- SFO and LAX exhibit more frequent delays, consistent with their heavy air traffic and weather variability (fog, coastal winds).  \n",
    "- ATL and DFW perform slightly better, reflecting efficient hub operations despite high volumes.\n",
    "\n",
    "#### 6. Is flight distance a factor in the delays?\n",
    "- The scatter plot shows no strong correlation between flight distance and delay occurrence.  \n",
    "- Both short- and long-haul flights experience delays, indicating that operational factors (e.g., scheduling, congestion, weather) play a bigger role than route length."
   ]
  },
  {
   "cell_type": "markdown",
   "metadata": {},
   "source": [
    "### Features\n",
    "\n",
    "Look at all the columns and what their specific types are."
   ]
  },
  {
   "cell_type": "code",
   "execution_count": 34,
   "metadata": {},
   "outputs": [
    {
     "data": {
      "text/plain": [
       "Index(['Year', 'Quarter', 'Month', 'DayofMonth', 'DayOfWeek', 'FlightDate',\n",
       "       'Reporting_Airline', 'Origin', 'OriginState', 'Dest', 'DestState',\n",
       "       'CRSDepTime', 'ArrDelay', 'ArrDelayMinutes', 'is_delay', 'Cancelled',\n",
       "       'Diverted', 'AirTime', 'Distance', 'DistanceGroup', 'DepHourofDay'],\n",
       "      dtype='object')"
      ]
     },
     "execution_count": 34,
     "metadata": {},
     "output_type": "execute_result"
    }
   ],
   "source": [
    "data.columns"
   ]
  },
  {
   "cell_type": "code",
   "execution_count": 35,
   "metadata": {
    "scrolled": true
   },
   "outputs": [
    {
     "data": {
      "text/plain": [
       "Year                   int64\n",
       "Quarter                int64\n",
       "Month                  int64\n",
       "DayofMonth             int64\n",
       "DayOfWeek              int64\n",
       "FlightDate            object\n",
       "Reporting_Airline     object\n",
       "Origin                object\n",
       "OriginState           object\n",
       "Dest                  object\n",
       "DestState             object\n",
       "CRSDepTime             int64\n",
       "ArrDelay             float64\n",
       "ArrDelayMinutes      float64\n",
       "is_delay             float64\n",
       "Cancelled            float64\n",
       "Diverted             float64\n",
       "AirTime              float64\n",
       "Distance             float64\n",
       "DistanceGroup          int64\n",
       "DepHourofDay           int64\n",
       "dtype: object"
      ]
     },
     "execution_count": 35,
     "metadata": {},
     "output_type": "execute_result"
    }
   ],
   "source": [
    "data.dtypes"
   ]
  },
  {
   "cell_type": "markdown",
   "metadata": {},
   "source": [
    "Filtering the required columns:\n",
    "- Date is redundant, because you have Year, Quarter, Month, DayofMonth, and DayOfWeek to describe the date.\n",
    "- Use Origin and Dest codes instead of OriginState and DestState.\n",
    "- Because you are just classifying whether the flight is delayed or not, you don't need TotalDelayMinutes, DepDelayMinutes, and ArrDelayMinutes.\n",
    "\n",
    "Treat DepHourofDay as a categorical variable because it doesn't have any quantitative relation with the target.\n",
    "- If you had to do a one-hot encoding of it, it would result in 23 more columns.\n",
    "- Other alternatives to handling categorical variables include hash encoding, regularized mean encoding, and bucketizing the values, among others.\n",
    "- Just split into buckets here.\n",
    "\n",
    "**Hint**: To change a column type to category, use the `astype` function ([documentation](https://pandas.pydata.org/pandas-docs/stable/reference/api/pandas.DataFrame.astype.html))."
   ]
  },
  {
   "cell_type": "code",
   "execution_count": 48,
   "metadata": {},
   "outputs": [],
   "source": [
    "data_orig = data.copy()\n",
    "data = data[['is_delay', 'Quarter', 'Month', 'DayofMonth', 'DayOfWeek',\n",
    "             'Reporting_Airline', 'Origin', 'Dest', 'Distance', 'DepHourofDay']]\n",
    "\n",
    "# --- Bucket DepHourofDay into time-of-day categories ---\n",
    "# Example buckets (can adjust boundaries as needed)\n",
    "bins = [-1, 6, 12, 18, 24]  # early morning, morning, afternoon, evening/night\n",
    "labels = ['Early_Morning', 'Morning', 'Afternoon', 'Evening']\n",
    "data['DepHourBucket'] = pd.cut(data['DepHourofDay'], bins=bins, labels=labels)\n",
    "\n",
    "# Define categorical columns (replace DepHourofDay with DepHourBucket)\n",
    "categorical_columns = ['Quarter', 'Month', 'DayofMonth', 'DayOfWeek',\n",
    "                       'Reporting_Airline', 'Origin', 'Dest', 'DepHourBucket']\n",
    "\n",
    "# Convert to categorical dtype\n",
    "for c in categorical_columns:\n",
    "    data[c] = data[c].astype('category')"
   ]
  },
  {
   "cell_type": "markdown",
   "metadata": {},
   "source": [
    "To use one-hot encoding, use the Pandas `get_dummies` function for the categorical columns that you selected above. Then, you can concatenate those generated features to your original dataset using the Pandas `concat` function. For encoding categorical variables, you can also use *dummy encoding* by using a keyword `drop_first=True`. For more information on dummy encoding, see https://en.wikiversity.org/wiki/Dummy_variable_(statistics).\n",
    "\n",
    "For example:\n",
    "```\n",
    "pd.get_dummies(df[['column1','columns2']], drop_first=True)\n",
    "```"
   ]
  },
  {
   "cell_type": "code",
   "execution_count": 49,
   "metadata": {},
   "outputs": [],
   "source": [
    "data_dummies = pd.get_dummies(data[categorical_columns], drop_first=True)\n",
    "\n",
    "# Concatenate dummy columns and drop original categorical variables\n",
    "data = pd.concat([data, data_dummies], axis=1)\n",
    "data.drop(categorical_columns, axis=1, inplace=True)"
   ]
  },
  {
   "cell_type": "markdown",
   "metadata": {},
   "source": [
    "Check the length of the dataset and the new columnms."
   ]
  },
  {
   "cell_type": "code",
   "execution_count": 50,
   "metadata": {},
   "outputs": [
    {
     "name": "stdout",
     "output_type": "stream",
     "text": [
      "Dataset shape: (1635590, 76)\n"
     ]
    }
   ],
   "source": [
    "print(f'Dataset shape: {data.shape}')"
   ]
  },
  {
   "cell_type": "code",
   "execution_count": 51,
   "metadata": {},
   "outputs": [
    {
     "name": "stdout",
     "output_type": "stream",
     "text": [
      "['is_delay', 'Distance', 'DepHourofDay', 'Quarter_2', 'Quarter_3', 'Quarter_4', 'Month_2', 'Month_3', 'Month_4', 'Month_5', 'Month_6', 'Month_7', 'Month_8', 'Month_9', 'Month_10', 'Month_11', 'Month_12', 'DayofMonth_2', 'DayofMonth_3', 'DayofMonth_4', 'DayofMonth_5', 'DayofMonth_6', 'DayofMonth_7', 'DayofMonth_8', 'DayofMonth_9', 'DayofMonth_10', 'DayofMonth_11', 'DayofMonth_12', 'DayofMonth_13', 'DayofMonth_14', 'DayofMonth_15', 'DayofMonth_16', 'DayofMonth_17', 'DayofMonth_18', 'DayofMonth_19', 'DayofMonth_20', 'DayofMonth_21', 'DayofMonth_22', 'DayofMonth_23', 'DayofMonth_24', 'DayofMonth_25', 'DayofMonth_26', 'DayofMonth_27', 'DayofMonth_28', 'DayofMonth_29', 'DayofMonth_30', 'DayofMonth_31', 'DayOfWeek_2', 'DayOfWeek_3', 'DayOfWeek_4', 'DayOfWeek_5', 'DayOfWeek_6', 'DayOfWeek_7', 'Reporting_Airline_DL', 'Reporting_Airline_OO', 'Reporting_Airline_UA', 'Reporting_Airline_WN', 'Origin_CLT', 'Origin_DEN', 'Origin_DFW', 'Origin_IAH', 'Origin_LAX', 'Origin_ORD', 'Origin_PHX', 'Origin_SFO', 'Dest_CLT', 'Dest_DEN', 'Dest_DFW', 'Dest_IAH', 'Dest_LAX', 'Dest_ORD', 'Dest_PHX', 'Dest_SFO', 'DepHourBucket_Morning', 'DepHourBucket_Afternoon', 'DepHourBucket_Evening']\n"
     ]
    }
   ],
   "source": [
    "print(data.columns.tolist())"
   ]
  },
  {
   "cell_type": "markdown",
   "metadata": {},
   "source": [
    "**Sample Answer:** \n",
    "```\n",
    "Index(['Distance', 'is_delay', 'Quarter_2', 'Quarter_3', 'Quarter_4',\n",
    "       'Month_2', 'Month_3', 'Month_4', 'Month_5', 'Month_6', 'Month_7',\n",
    "       'Month_8', 'Month_9', 'Month_10', 'Month_11', 'Month_12',\n",
    "       'DayofMonth_2', 'DayofMonth_3', 'DayofMonth_4', 'DayofMonth_5',\n",
    "       'DayofMonth_6', 'DayofMonth_7', 'DayofMonth_8', 'DayofMonth_9',\n",
    "       'DayofMonth_10', 'DayofMonth_11', 'DayofMonth_12', 'DayofMonth_13',\n",
    "       'DayofMonth_14', 'DayofMonth_15', 'DayofMonth_16', 'DayofMonth_17',\n",
    "       'DayofMonth_18', 'DayofMonth_19', 'DayofMonth_20', 'DayofMonth_21',\n",
    "       'DayofMonth_22', 'DayofMonth_23', 'DayofMonth_24', 'DayofMonth_25',\n",
    "       'DayofMonth_26', 'DayofMonth_27', 'DayofMonth_28', 'DayofMonth_29',\n",
    "       'DayofMonth_30', 'DayofMonth_31', 'DayOfWeek_2', 'DayOfWeek_3',\n",
    "       'DayOfWeek_4', 'DayOfWeek_5', 'DayOfWeek_6', 'DayOfWeek_7',\n",
    "       'Reporting_Airline_DL', 'Reporting_Airline_OO', 'Reporting_Airline_UA',\n",
    "       'Reporting_Airline_WN', 'Origin_CLT', 'Origin_DEN', 'Origin_DFW',\n",
    "       'Origin_IAH', 'Origin_LAX', 'Origin_ORD', 'Origin_PHX', 'Origin_SFO',\n",
    "       'Dest_CLT', 'Dest_DEN', 'Dest_DFW', 'Dest_IAH', 'Dest_LAX', 'Dest_ORD',\n",
    "       'Dest_PHX', 'Dest_SFO'],\n",
    "      dtype='object')\n",
    "```"
   ]
  },
  {
   "cell_type": "markdown",
   "metadata": {},
   "source": [
    "Now you are ready to do model training. Before splitting the data, rename the column `is_delay` to `target`.\n",
    "\n",
    "**Hint**: You can use the Pandas `rename` function ([documentation](https://pandas.pydata.org/pandas-docs/stable/reference/api/pandas.DataFrame.rename.html))."
   ]
  },
  {
   "cell_type": "code",
   "execution_count": 52,
   "metadata": {},
   "outputs": [],
   "source": [
    "data.rename(columns={'is_delay': 'target'}, inplace=True) # Enter your code here"
   ]
  },
  {
   "cell_type": "code",
   "execution_count": 53,
   "metadata": {},
   "outputs": [
    {
     "name": "stdout",
     "output_type": "stream",
     "text": [
      "combined_csv_v1.csv has been saved successfully.\n"
     ]
    }
   ],
   "source": [
    "data.to_csv(f'{combined_df_path}/combined_csv_v1.csv', index=False)\n",
    "print('combined_csv_v1.csv has been saved successfully.')"
   ]
  },
  {
   "cell_type": "code",
   "execution_count": 55,
   "metadata": {},
   "outputs": [
    {
     "data": {
      "text/html": [
       "<div>\n",
       "<style scoped>\n",
       "    .dataframe tbody tr th:only-of-type {\n",
       "        vertical-align: middle;\n",
       "    }\n",
       "\n",
       "    .dataframe tbody tr th {\n",
       "        vertical-align: top;\n",
       "    }\n",
       "\n",
       "    .dataframe thead th {\n",
       "        text-align: right;\n",
       "    }\n",
       "</style>\n",
       "<table border=\"1\" class=\"dataframe\">\n",
       "  <thead>\n",
       "    <tr style=\"text-align: right;\">\n",
       "      <th></th>\n",
       "      <th>target</th>\n",
       "      <th>Distance</th>\n",
       "      <th>DepHourofDay</th>\n",
       "      <th>Quarter_2</th>\n",
       "      <th>Quarter_3</th>\n",
       "      <th>Quarter_4</th>\n",
       "      <th>Month_2</th>\n",
       "      <th>Month_3</th>\n",
       "      <th>Month_4</th>\n",
       "      <th>Month_5</th>\n",
       "      <th>...</th>\n",
       "      <th>Dest_DEN</th>\n",
       "      <th>Dest_DFW</th>\n",
       "      <th>Dest_IAH</th>\n",
       "      <th>Dest_LAX</th>\n",
       "      <th>Dest_ORD</th>\n",
       "      <th>Dest_PHX</th>\n",
       "      <th>Dest_SFO</th>\n",
       "      <th>DepHourBucket_Morning</th>\n",
       "      <th>DepHourBucket_Afternoon</th>\n",
       "      <th>DepHourBucket_Evening</th>\n",
       "    </tr>\n",
       "  </thead>\n",
       "  <tbody>\n",
       "    <tr>\n",
       "      <th>0</th>\n",
       "      <td>0.0</td>\n",
       "      <td>689.0</td>\n",
       "      <td>21</td>\n",
       "      <td>False</td>\n",
       "      <td>False</td>\n",
       "      <td>False</td>\n",
       "      <td>False</td>\n",
       "      <td>False</td>\n",
       "      <td>False</td>\n",
       "      <td>False</td>\n",
       "      <td>...</td>\n",
       "      <td>False</td>\n",
       "      <td>False</td>\n",
       "      <td>True</td>\n",
       "      <td>False</td>\n",
       "      <td>False</td>\n",
       "      <td>False</td>\n",
       "      <td>False</td>\n",
       "      <td>False</td>\n",
       "      <td>False</td>\n",
       "      <td>True</td>\n",
       "    </tr>\n",
       "    <tr>\n",
       "      <th>1</th>\n",
       "      <td>0.0</td>\n",
       "      <td>731.0</td>\n",
       "      <td>9</td>\n",
       "      <td>False</td>\n",
       "      <td>False</td>\n",
       "      <td>False</td>\n",
       "      <td>False</td>\n",
       "      <td>False</td>\n",
       "      <td>False</td>\n",
       "      <td>False</td>\n",
       "      <td>...</td>\n",
       "      <td>False</td>\n",
       "      <td>False</td>\n",
       "      <td>False</td>\n",
       "      <td>False</td>\n",
       "      <td>False</td>\n",
       "      <td>False</td>\n",
       "      <td>False</td>\n",
       "      <td>True</td>\n",
       "      <td>False</td>\n",
       "      <td>False</td>\n",
       "    </tr>\n",
       "    <tr>\n",
       "      <th>2</th>\n",
       "      <td>0.0</td>\n",
       "      <td>1199.0</td>\n",
       "      <td>18</td>\n",
       "      <td>False</td>\n",
       "      <td>False</td>\n",
       "      <td>False</td>\n",
       "      <td>False</td>\n",
       "      <td>False</td>\n",
       "      <td>False</td>\n",
       "      <td>False</td>\n",
       "      <td>...</td>\n",
       "      <td>True</td>\n",
       "      <td>False</td>\n",
       "      <td>False</td>\n",
       "      <td>False</td>\n",
       "      <td>False</td>\n",
       "      <td>False</td>\n",
       "      <td>False</td>\n",
       "      <td>False</td>\n",
       "      <td>True</td>\n",
       "      <td>False</td>\n",
       "    </tr>\n",
       "    <tr>\n",
       "      <th>3</th>\n",
       "      <td>0.0</td>\n",
       "      <td>1587.0</td>\n",
       "      <td>16</td>\n",
       "      <td>False</td>\n",
       "      <td>False</td>\n",
       "      <td>False</td>\n",
       "      <td>False</td>\n",
       "      <td>False</td>\n",
       "      <td>False</td>\n",
       "      <td>False</td>\n",
       "      <td>...</td>\n",
       "      <td>False</td>\n",
       "      <td>False</td>\n",
       "      <td>False</td>\n",
       "      <td>False</td>\n",
       "      <td>False</td>\n",
       "      <td>True</td>\n",
       "      <td>False</td>\n",
       "      <td>False</td>\n",
       "      <td>True</td>\n",
       "      <td>False</td>\n",
       "    </tr>\n",
       "    <tr>\n",
       "      <th>4</th>\n",
       "      <td>0.0</td>\n",
       "      <td>1587.0</td>\n",
       "      <td>7</td>\n",
       "      <td>False</td>\n",
       "      <td>False</td>\n",
       "      <td>False</td>\n",
       "      <td>False</td>\n",
       "      <td>False</td>\n",
       "      <td>False</td>\n",
       "      <td>False</td>\n",
       "      <td>...</td>\n",
       "      <td>False</td>\n",
       "      <td>False</td>\n",
       "      <td>False</td>\n",
       "      <td>False</td>\n",
       "      <td>False</td>\n",
       "      <td>False</td>\n",
       "      <td>False</td>\n",
       "      <td>True</td>\n",
       "      <td>False</td>\n",
       "      <td>False</td>\n",
       "    </tr>\n",
       "  </tbody>\n",
       "</table>\n",
       "<p>5 rows × 76 columns</p>\n",
       "</div>"
      ],
      "text/plain": [
       "   target  Distance  DepHourofDay  Quarter_2  Quarter_3  Quarter_4  Month_2  \\\n",
       "0     0.0     689.0            21      False      False      False    False   \n",
       "1     0.0     731.0             9      False      False      False    False   \n",
       "2     0.0    1199.0            18      False      False      False    False   \n",
       "3     0.0    1587.0            16      False      False      False    False   \n",
       "4     0.0    1587.0             7      False      False      False    False   \n",
       "\n",
       "   Month_3  Month_4  Month_5  ...  Dest_DEN  Dest_DFW  Dest_IAH  Dest_LAX  \\\n",
       "0    False    False    False  ...     False     False      True     False   \n",
       "1    False    False    False  ...     False     False     False     False   \n",
       "2    False    False    False  ...      True     False     False     False   \n",
       "3    False    False    False  ...     False     False     False     False   \n",
       "4    False    False    False  ...     False     False     False     False   \n",
       "\n",
       "   Dest_ORD  Dest_PHX  Dest_SFO  DepHourBucket_Morning  \\\n",
       "0     False     False     False                  False   \n",
       "1     False     False     False                   True   \n",
       "2     False     False     False                  False   \n",
       "3     False      True     False                  False   \n",
       "4     False     False     False                   True   \n",
       "\n",
       "   DepHourBucket_Afternoon  DepHourBucket_Evening  \n",
       "0                    False                   True  \n",
       "1                    False                  False  \n",
       "2                     True                  False  \n",
       "3                     True                  False  \n",
       "4                    False                  False  \n",
       "\n",
       "[5 rows x 76 columns]"
      ]
     },
     "execution_count": 55,
     "metadata": {},
     "output_type": "execute_result"
    }
   ],
   "source": [
    "data.head()"
   ]
  },
  {
   "cell_type": "markdown",
   "metadata": {},
   "source": [
    "# Step 3: Model training and evaluation\n",
    "\n",
    "1. Split the data into `train_data`, and `test_data` using `sklearn.model_selection.train_test_split`.  \n",
    "2. Build a logistic regression model for the data, where training data is 80%, and test data is 20%.\n",
    "\n",
    "Use the following cells to complete these steps. Insert and delete cells where needed.\n"
   ]
  },
  {
   "cell_type": "markdown",
   "metadata": {},
   "source": [
    "### Train test split"
   ]
  },
  {
   "cell_type": "code",
   "execution_count": 56,
   "metadata": {},
   "outputs": [
    {
     "name": "stdout",
     "output_type": "stream",
     "text": [
      "Data successfully split:\n",
      "Training set: (1308472, 76)\n",
      "Validation set:  (163559, 76)\n",
      "Testing set:  (163559, 76)\n"
     ]
    }
   ],
   "source": [
    "# write Code here to split data into train, validate and test\n",
    "train, test_and_validate = train_test_split(data, test_size=0.2, random_state=42, stratify=data['target'])\n",
    "test, validate = train_test_split(test_and_validate, test_size=0.5, random_state=42, stratify=test_and_validate['target'])\n",
    "\n",
    "print('Data successfully split:')\n",
    "print(f'Training set: {train.shape}')\n",
    "print(f'Validation set:  {validate.shape}')\n",
    "print(f'Testing set:  {test.shape}')"
   ]
  },
  {
   "cell_type": "markdown",
   "metadata": {},
   "source": [
    "### Baseline classification model"
   ]
  },
  {
   "cell_type": "code",
   "execution_count": 62,
   "metadata": {
    "scrolled": true
   },
   "outputs": [
    {
     "name": "stdout",
     "output_type": "stream",
     "text": [
      "Training Set Evaluation\n",
      "Accuracy (Train): 0.7901\n",
      "\n",
      "Confusion Matrix (Train):\n",
      " [[1033204     602]\n",
      " [ 274017     649]]\n",
      "\n",
      "Classification Report (Train):\n",
      "               precision    recall  f1-score   support\n",
      "\n",
      "         0.0       0.79      1.00      0.88   1033806\n",
      "         1.0       0.52      0.00      0.00    274666\n",
      "\n",
      "    accuracy                           0.79   1308472\n",
      "   macro avg       0.65      0.50      0.44   1308472\n",
      "weighted avg       0.73      0.79      0.70   1308472\n",
      "\n",
      "\n",
      "Test Set Evaluation\n",
      "Accuracy (Test): 0.7901\n",
      "\n",
      "Confusion Matrix (Test):\n",
      " [[129139     87]\n",
      " [ 34251     82]]\n",
      "\n",
      "Classification Report (Test):\n",
      "               precision    recall  f1-score   support\n",
      "\n",
      "         0.0       0.79      1.00      0.88    129226\n",
      "         1.0       0.49      0.00      0.00     34333\n",
      "\n",
      "    accuracy                           0.79    163559\n",
      "   macro avg       0.64      0.50      0.44    163559\n",
      "weighted avg       0.73      0.79      0.70    163559\n",
      "\n",
      "\n",
      "Test Set Evaluation\n",
      "Accuracy (Test): 0.7901\n",
      "\n",
      "Confusion Matrix (Test):\n",
      " [[258298    154]\n",
      " [ 68505    161]]\n",
      "\n",
      "Classification Report (Test):\n",
      "               precision    recall  f1-score   support\n",
      "\n",
      "         0.0       0.79      1.00      0.88    258452\n",
      "         1.0       0.51      0.00      0.00     68666\n",
      "\n",
      "    accuracy                           0.79    327118\n",
      "   macro avg       0.65      0.50      0.44    327118\n",
      "weighted avg       0.73      0.79      0.70    327118\n",
      "\n"
     ]
    }
   ],
   "source": [
    "# <write code here>\n",
    "# Separate features and labels for each dataset\n",
    "X_train, y_train = train.drop('target', axis=1), train['target']\n",
    "X_validate, y_validate = validate.drop('target', axis=1), validate['target']\n",
    "X_test, y_test = test.drop('target', axis=1), test['target']\n",
    "\n",
    "X_test_val, y_test_val = test_and_validate.drop('target', axis=1), test_and_validate['target']\n",
    "\n",
    "# Initialize and train baseline Logistic Regression model\n",
    "baseline_model = LogisticRegression(max_iter=1000, random_state=42)\n",
    "baseline_model.fit(X_train, y_train)\n",
    "\n",
    "# ---- Training set predictions ----\n",
    "train_pred = baseline_model.predict(X_train)\n",
    "\n",
    "print('Training Set Evaluation')\n",
    "print(f'Accuracy (Train): {accuracy_score(y_train, train_pred):.4f}')\n",
    "print('\\nConfusion Matrix (Train):\\n', confusion_matrix(y_train, train_pred))\n",
    "print('\\nClassification Report (Train):\\n', classification_report(y_train, train_pred))\n",
    "\n",
    "# ---- Test set predictions ----\n",
    "test_labels = y_test\n",
    "target_predicted = baseline_model.predict(X_test)\n",
    "\n",
    "print('\\nTest Set Evaluation')\n",
    "print(f'Accuracy (Test): {accuracy_score(test_labels, target_predicted):.4f}')\n",
    "print('\\nConfusion Matrix (Test):\\n', confusion_matrix(test_labels, target_predicted))\n",
    "print('\\nClassification Report (Test):\\n', classification_report(test_labels, target_predicted))\n",
    "\n",
    "# ---- Test and validation set predictions ----\n",
    "test_labels = y_test_val\n",
    "target_predicted = baseline_model.predict(X_test_val)\n",
    "\n",
    "print('\\nTest Set Evaluation')\n",
    "print(f'Accuracy (Test): {accuracy_score(test_labels, target_predicted):.4f}')\n",
    "print('\\nConfusion Matrix (Test):\\n', confusion_matrix(test_labels, target_predicted))\n",
    "print('\\nClassification Report (Test):\\n', classification_report(test_labels, target_predicted))"
   ]
  },
  {
   "cell_type": "markdown",
   "metadata": {},
   "source": [
    "## Model evaluation\n",
    "In this section, you'll evaluate your trained model on test data and report on the following metrics:\n",
    "* Confusion Matrix plot\n",
    "* Plot the ROC\n",
    "* Report statistics such as Accuracy, Percision, Recall, Sensitivity and Specificity"
   ]
  },
  {
   "cell_type": "markdown",
   "metadata": {},
   "source": [
    "To view a plot of the confusion matrix, and various scoring metrics, create a couple of functions:"
   ]
  },
  {
   "cell_type": "code",
   "execution_count": 63,
   "metadata": {},
   "outputs": [],
   "source": [
    "from sklearn.metrics import confusion_matrix\n",
    "\n",
    "def plot_confusion_matrix(test_labels, target_predicted):\n",
    "    # complete the code here\n",
    "    '''\n",
    "    Plots a labeled confusion matrix for classification results.\n",
    "    '''\n",
    "    cm = confusion_matrix(test_labels, target_predicted)\n",
    "    plt.figure(figsize=(6, 4))\n",
    "    sns.heatmap(cm, annot=True, fmt='d', cmap='Blues',\n",
    "                xticklabels=['No Delay (0)', 'Delay (1)'],\n",
    "                yticklabels=['No Delay (0)', 'Delay (1)'])\n",
    "    plt.title('Confusion Matrix')\n",
    "    plt.xlabel('Predicted Label')\n",
    "    plt.ylabel('True Label')\n",
    "    plt.show()"
   ]
  },
  {
   "cell_type": "code",
   "execution_count": 64,
   "metadata": {},
   "outputs": [],
   "source": [
    "from sklearn import metrics\n",
    "\n",
    "def plot_roc(test_labels, target_predicted):\n",
    "    # complete the code here\n",
    "    '''\n",
    "    Plots the Receiver Operating Characteristic (ROC) curve for a binary classifier.\n",
    "    '''\n",
    "    # Get predicted probabilities for the positive class (1 = delayed)\n",
    "    fpr, tpr, thresholds = metrics.roc_curve(test_labels, target_predicted)\n",
    "    auc = metrics.roc_auc_score(test_labels, target_predicted)\n",
    "\n",
    "    # Plot ROC curve\n",
    "    plt.figure(figsize=(6, 4))\n",
    "    plt.plot(fpr, tpr, color='blue', label=f'ROC Curve (AUC = {auc:.3f})')\n",
    "    plt.plot([0, 1], [0, 1], color='gray', linestyle='--')  # random chance line\n",
    "    plt.title('Receiver Operating Characteristic (ROC) Curve')\n",
    "    plt.xlabel('False Positive Rate (1 - Specificity)')\n",
    "    plt.ylabel('True Positive Rate (Sensitivity)')\n",
    "    plt.legend(loc='lower right')\n",
    "    plt.grid(True)\n",
    "    plt.show()"
   ]
  },
  {
   "cell_type": "markdown",
   "metadata": {},
   "source": [
    "To plot the confusion matrix, call the `plot_confusion_matrix` function on the `test_labels` and `target_predicted` data from your batch job:"
   ]
  },
  {
   "cell_type": "code",
   "execution_count": 65,
   "metadata": {},
   "outputs": [
    {
     "data": {
      "image/png": "[encoded data removed]",
      "text/plain": [
       "<Figure size 600x400 with 2 Axes>"
      ]
     },
     "metadata": {},
     "output_type": "display_data"
    }
   ],
   "source": [
    "plot_confusion_matrix(test_labels, target_predicted)"
   ]
  },
  {
   "cell_type": "markdown",
   "metadata": {},
   "source": [
    "To print statistics and plot an ROC curve, call the `plot_roc` function on the `test_labels` and `target_predicted` data from your batch job:"
   ]
  },
  {
   "cell_type": "code",
   "execution_count": 66,
   "metadata": {},
   "outputs": [
    {
     "data": {
      "image/png": "[encoded data removed]",
      "text/plain": [
       "<Figure size 600x400 with 1 Axes>"
      ]
     },
     "metadata": {},
     "output_type": "display_data"
    }
   ],
   "source": [
    "plot_roc(test_labels, target_predicted)"
   ]
  },
  {
   "cell_type": "markdown",
   "metadata": {},
   "source": [
    "### Key questions to consider:\n",
    "1. How does your model's performance on the test set compare to the training set? What can you deduce from this comparison? \n",
    "\n",
    "2. Are there obvious differences between the outcomes of metrics like accuracy, precision, and recall? If so, why might you be seeing those differences? \n",
    "\n",
    "3. Is the outcome for the metric(s) you consider most important sufficient for what you need from a business standpoint? If not, what are some things you might change in your next iteration (in the feature engineering section, which is coming up next)? \n",
    "\n",
    "Use the cells below to answer these and other questions. Insert and delete cells where needed."
   ]
  },
  {
   "cell_type": "markdown",
   "metadata": {},
   "source": [
    "\n",
    "**Question**: What can you summarize from the confusion matrix?\n"
   ]
  },
  {
   "cell_type": "markdown",
   "metadata": {},
   "source": [
    "From the confusion matrices for both the training and test sets, it’s clear that the model is predicting almost all flights as on time (class 0):\n",
    "\n",
    "- **True Negatives (TN):** Very high — the model correctly identifies most on-time flights.  \n",
    "- **False Negatives (FN):** Extremely high — almost all actual delays are being predicted as on time.  \n",
    "- **True Positives (TP):** Very low — the model rarely identifies delayed flights correctly.  \n",
    "- **False Positives (FP):** Minimal — very few on-time flights are incorrectly predicted as delayed.  \n",
    "\n",
    "This pattern indicates that the model is biased toward the majority class (on-time flights).  \n",
    "While it achieves a high overall accuracy (~79%), this is misleading because of the severe class imbalance — delayed flights make up only a small fraction of the data.\n",
    "\n",
    "From a business perspective:\n",
    "- The model currently has no practical utility — it fails to warn customers about real delays.  \n",
    "- Recall = 0.00 for delayed flights means it captures none of the events the business actually cares about.  "
   ]
  },
  {
   "cell_type": "markdown",
   "metadata": {},
   "source": [
    "# Step 4: Deployment\n",
    "\n",
    "1. In this step you are required to push your source code and requirements file to a GitHub repository without the data files. Please use the Git commands to complete this task\n",
    "2- Create a “readme.md” markdown file that describes the code of this repository and how to run it and what the user would expect if got the code running.\n",
    "\n",
    "In the cell below provide the link of the pushed repository on your GitHub account, and ensure it is public.\n"
   ]
  },
  {
   "cell_type": "markdown",
   "metadata": {},
   "source": [
    "### Provide a link for your GitHub repository here\n",
    "https://github.com/nigelcheong/dsts-final-project.git"
   ]
  },
  {
   "cell_type": "markdown",
   "metadata": {},
   "source": [
    "# Iteration II"
   ]
  },
  {
   "cell_type": "markdown",
   "metadata": {},
   "source": [
    "# Step 5: Feature engineering\n",
    "\n",
    "You've now gone through one iteration of training and evaluating your model. Given that the outcome you reached for your model the first time probably wasn't sufficient for solving your business problem, what are some things you could change about your data to possibly improve model performance?\n",
    "\n",
    "### Key questions to consider:\n",
    "1. How might the balance of your two main classes (delay and no delay) impact model performance?\n",
    "2. Do you have any features that are correlated?\n",
    "3. Are there feature reduction techniques you could perform at this stage that might have a positive impact on model performance? \n",
    "4. Can you think of adding some more data/datasets?\n",
    "4. After performing some feature engineering, how does your model performance compare to the first iteration?\n",
    "\n",
    "Use the cells below to perform specific feature engineering techniques (per the questions above) that you think could improve your model performance. Insert and delete cells where needed.\n",
    "\n",
    "\n",
    "Before you start, think about why the precision and recall are around 80% while the accuracy is 99%."
   ]
  },
  {
   "cell_type": "markdown",
   "metadata": {},
   "source": [
    "#### Add more features\n",
    "\n",
    "1. Holidays\n",
    "2. Weather"
   ]
  },
  {
   "cell_type": "markdown",
   "metadata": {},
   "source": [
    "Because the list of holidays from 2014 to 2018 is known, you can create an indicator variable **is_holiday** to mark these.\n",
    "The hypothesis is that airplane delays could be higher during holidays compared to the rest of the days. Add a boolean variable `is_holiday` that includes the holidays for the years 2014-2018."
   ]
  },
  {
   "cell_type": "code",
   "execution_count": 67,
   "metadata": {},
   "outputs": [],
   "source": [
    "# Source: http://www.calendarpedia.com/holidays/federal-holidays-2014.html\n",
    "\n",
    "holidays_14 = ['2014-01-01',  '2014-01-20', '2014-02-17', '2014-05-26', '2014-07-04', '2014-09-01', '2014-10-13', '2014-11-11', '2014-11-27', '2014-12-25' ] \n",
    "holidays_15 = ['2015-01-01',  '2015-01-19', '2015-02-16', '2015-05-25', '2015-06-03', '2015-07-04', '2015-09-07', '2015-10-12', '2015-11-11', '2015-11-26', '2015-12-25'] \n",
    "holidays_16 = ['2016-01-01',  '2016-01-18', '2016-02-15', '2016-05-30', '2016-07-04', '2016-09-05', '2016-10-10', '2016-11-11', '2016-11-24', '2016-12-25', '2016-12-26']\n",
    "holidays_17 = ['2017-01-02', '2017-01-16', '2017-02-20', '2017-05-29' , '2017-07-04', '2017-09-04' ,'2017-10-09', '2017-11-10', '2017-11-23', '2017-12-25']\n",
    "holidays_18 = ['2018-01-01', '2018-01-15', '2018-02-19', '2018-05-28' , '2018-07-04', '2018-09-03' ,'2018-10-08', '2018-11-12','2018-11-22', '2018-12-25']\n",
    "holidays = holidays_14+ holidays_15+ holidays_16 + holidays_17+ holidays_18\n",
    "\n",
    "### Add indicator variable for holidays\n",
    "data_orig['is_holiday'] = data_orig['FlightDate'].isin(holidays).astype(int)"
   ]
  },
  {
   "cell_type": "markdown",
   "metadata": {},
   "source": [
    "Weather data was fetched from [this link](https://www.ncei.noaa.gov/access/services/data/v1?dataset=daily-summaries&stations=USW00023174,USW00012960,USW00003017,USW00094846,USW00013874,USW00023234,USW00003927,USW00023183,USW00013881&dataTypes=AWND,PRCP,SNOW,SNWD,TAVG,TMIN,TMAX&startDate=2014-01-01&endDate=2018-12-31).\n",
    "<br>\n",
    "\n",
    "This dataset has information on wind speed, precipitation, snow, and temperature for cities by their airport codes.\n",
    "\n",
    "**Question**: Could bad weather due to rains, heavy winds, or snow lead to airplane delay? Let's check!"
   ]
  },
  {
   "cell_type": "code",
   "execution_count": 68,
   "metadata": {
    "scrolled": true
   },
   "outputs": [],
   "source": [
    "# download data from the link above and place it into the data folder"
   ]
  },
  {
   "cell_type": "markdown",
   "metadata": {},
   "source": [
    "Import weather data prepared for the airport codes in our dataset. Use the stations and airports below for the analysis, and create a new column called `airport` that maps the weather station to the airport name."
   ]
  },
  {
   "cell_type": "code",
   "execution_count": 69,
   "metadata": {},
   "outputs": [],
   "source": [
    "weather = pd.read_csv('data/daily-summaries-2025-10-18T05-20-24.csv') # Enter your code here to read 'daily-summaries.csv' file\n",
    "station = ['USW00023174','USW00012960','USW00003017','USW00094846',\n",
    "           'USW00013874','USW00023234','USW00003927','USW00023183','USW00013881'] \n",
    "airports = ['LAX', 'IAH', 'DEN', 'ORD', 'ATL', 'SFO', 'DFW', 'PHX', 'CLT']\n",
    "\n",
    "### Map weather stations to airport code\n",
    "station_map = dict(zip(station, airports))\n",
    "\n",
    "# Map weather station codes to airport names\n",
    "weather['airport'] = weather['STATION'].map(station_map)"
   ]
  },
  {
   "cell_type": "markdown",
   "metadata": {},
   "source": [
    "Create another column called `MONTH` from the `DATE` column."
   ]
  },
  {
   "cell_type": "code",
   "execution_count": 70,
   "metadata": {
    "scrolled": true
   },
   "outputs": [
    {
     "data": {
      "text/html": [
       "<div>\n",
       "<style scoped>\n",
       "    .dataframe tbody tr th:only-of-type {\n",
       "        vertical-align: middle;\n",
       "    }\n",
       "\n",
       "    .dataframe tbody tr th {\n",
       "        vertical-align: top;\n",
       "    }\n",
       "\n",
       "    .dataframe thead th {\n",
       "        text-align: right;\n",
       "    }\n",
       "</style>\n",
       "<table border=\"1\" class=\"dataframe\">\n",
       "  <thead>\n",
       "    <tr style=\"text-align: right;\">\n",
       "      <th></th>\n",
       "      <th>STATION</th>\n",
       "      <th>DATE</th>\n",
       "      <th>AWND</th>\n",
       "      <th>PRCP</th>\n",
       "      <th>SNOW</th>\n",
       "      <th>SNWD</th>\n",
       "      <th>TAVG</th>\n",
       "      <th>TMAX</th>\n",
       "      <th>TMIN</th>\n",
       "      <th>airport</th>\n",
       "      <th>MONTH</th>\n",
       "    </tr>\n",
       "  </thead>\n",
       "  <tbody>\n",
       "    <tr>\n",
       "      <th>0</th>\n",
       "      <td>USW00023174</td>\n",
       "      <td>2014-01-01</td>\n",
       "      <td>16</td>\n",
       "      <td>0</td>\n",
       "      <td>NaN</td>\n",
       "      <td>NaN</td>\n",
       "      <td>131.0</td>\n",
       "      <td>178.0</td>\n",
       "      <td>78.0</td>\n",
       "      <td>LAX</td>\n",
       "      <td>01</td>\n",
       "    </tr>\n",
       "    <tr>\n",
       "      <th>1</th>\n",
       "      <td>USW00023174</td>\n",
       "      <td>2014-01-02</td>\n",
       "      <td>22</td>\n",
       "      <td>0</td>\n",
       "      <td>NaN</td>\n",
       "      <td>NaN</td>\n",
       "      <td>159.0</td>\n",
       "      <td>256.0</td>\n",
       "      <td>100.0</td>\n",
       "      <td>LAX</td>\n",
       "      <td>01</td>\n",
       "    </tr>\n",
       "    <tr>\n",
       "      <th>2</th>\n",
       "      <td>USW00023174</td>\n",
       "      <td>2014-01-03</td>\n",
       "      <td>17</td>\n",
       "      <td>0</td>\n",
       "      <td>NaN</td>\n",
       "      <td>NaN</td>\n",
       "      <td>140.0</td>\n",
       "      <td>178.0</td>\n",
       "      <td>83.0</td>\n",
       "      <td>LAX</td>\n",
       "      <td>01</td>\n",
       "    </tr>\n",
       "    <tr>\n",
       "      <th>3</th>\n",
       "      <td>USW00023174</td>\n",
       "      <td>2014-01-04</td>\n",
       "      <td>18</td>\n",
       "      <td>0</td>\n",
       "      <td>NaN</td>\n",
       "      <td>NaN</td>\n",
       "      <td>136.0</td>\n",
       "      <td>183.0</td>\n",
       "      <td>100.0</td>\n",
       "      <td>LAX</td>\n",
       "      <td>01</td>\n",
       "    </tr>\n",
       "    <tr>\n",
       "      <th>4</th>\n",
       "      <td>USW00023174</td>\n",
       "      <td>2014-01-05</td>\n",
       "      <td>18</td>\n",
       "      <td>0</td>\n",
       "      <td>NaN</td>\n",
       "      <td>NaN</td>\n",
       "      <td>151.0</td>\n",
       "      <td>244.0</td>\n",
       "      <td>83.0</td>\n",
       "      <td>LAX</td>\n",
       "      <td>01</td>\n",
       "    </tr>\n",
       "  </tbody>\n",
       "</table>\n",
       "</div>"
      ],
      "text/plain": [
       "       STATION        DATE  AWND  PRCP  SNOW  SNWD   TAVG   TMAX   TMIN  \\\n",
       "0  USW00023174  2014-01-01    16     0   NaN   NaN  131.0  178.0   78.0   \n",
       "1  USW00023174  2014-01-02    22     0   NaN   NaN  159.0  256.0  100.0   \n",
       "2  USW00023174  2014-01-03    17     0   NaN   NaN  140.0  178.0   83.0   \n",
       "3  USW00023174  2014-01-04    18     0   NaN   NaN  136.0  183.0  100.0   \n",
       "4  USW00023174  2014-01-05    18     0   NaN   NaN  151.0  244.0   83.0   \n",
       "\n",
       "  airport MONTH  \n",
       "0     LAX    01  \n",
       "1     LAX    01  \n",
       "2     LAX    01  \n",
       "3     LAX    01  \n",
       "4     LAX    01  "
      ]
     },
     "execution_count": 70,
     "metadata": {},
     "output_type": "execute_result"
    }
   ],
   "source": [
    "weather['MONTH'] = weather['DATE'].apply(lambda x: x.split('-')[1])# Enter your code here \n",
    "weather.head()"
   ]
  },
  {
   "cell_type": "markdown",
   "metadata": {},
   "source": [
    "### Sample output\n",
    "```\n",
    "  STATION     DATE      AWND PRCP SNOW SNWD TAVG TMAX  TMIN airport MONTH\n",
    "0 USW00023174 2014-01-01 16   0   NaN  NaN 131.0 178.0 78.0  LAX    01\n",
    "1 USW00023174 2014-01-02 22   0   NaN  NaN 159.0 256.0 100.0 LAX    01\n",
    "2 USW00023174 2014-01-03 17   0   NaN  NaN 140.0 178.0 83.0  LAX    01\n",
    "3 USW00023174 2014-01-04 18   0   NaN  NaN 136.0 183.0 100.0 LAX    01\n",
    "4 USW00023174 2014-01-05 18   0   NaN  NaN 151.0 244.0 83.0  LAX    01\n",
    "```"
   ]
  },
  {
   "cell_type": "markdown",
   "metadata": {},
   "source": [
    "Analyze and handle the `SNOW` and `SNWD` columns for missing values using `fillna()`. Use the `isna()` function to check the missing values for all the columns."
   ]
  },
  {
   "cell_type": "code",
   "execution_count": 71,
   "metadata": {
    "scrolled": true
   },
   "outputs": [
    {
     "data": {
      "text/plain": [
       "STATION     0\n",
       "DATE        0\n",
       "AWND        0\n",
       "PRCP        0\n",
       "SNOW        0\n",
       "SNWD        0\n",
       "TAVG       62\n",
       "TMAX       20\n",
       "TMIN       20\n",
       "airport     0\n",
       "MONTH       0\n",
       "dtype: int64"
      ]
     },
     "execution_count": 71,
     "metadata": {},
     "output_type": "execute_result"
    }
   ],
   "source": [
    "weather.SNOW.fillna(0, inplace=True)# Enter your code here\n",
    "weather.SNWD.fillna(0, inplace=True)# Enter your code here\n",
    "weather.isna().sum()"
   ]
  },
  {
   "cell_type": "markdown",
   "metadata": {},
   "source": [
    "**Question**: Print the index of the rows that have missing values for TAVG, TMAX, TMIN.\n",
    "\n",
    "**Hint**: Use the `isna()` function to find the rows that are missing, and then use the list on the idx variable to get the index."
   ]
  },
  {
   "cell_type": "code",
   "execution_count": 72,
   "metadata": {},
   "outputs": [
    {
     "data": {
      "text/plain": [
       "array([ 3956,  3957,  3958,  3959,  3960,  3961,  3962,  3963,  3964,\n",
       "        3965,  3966,  3967,  3968,  3969,  3970,  3971,  3972,  3973,\n",
       "        3974,  3975,  3976,  3977,  3978,  3979,  3980,  3981,  3982,\n",
       "        3983,  3984,  3985,  4017,  4018,  4019,  4020,  4021,  4022,\n",
       "        4023,  4024,  4025,  4026,  4027,  4028,  4029,  4030,  4031,\n",
       "        4032,  4033,  4034,  4035,  4036,  4037,  4038,  4039,  4040,\n",
       "        4041,  4042,  4043,  4044,  4045,  4046,  4047, 13420])"
      ]
     },
     "execution_count": 72,
     "metadata": {},
     "output_type": "execute_result"
    }
   ],
   "source": [
    "idx = np.array([i for i in range(len(weather))])\n",
    "TAVG_idx = idx[weather['TAVG'].isna()]\n",
    "TMAX_idx = idx[weather['TMAX'].isna()]\n",
    "TMIN_idx = idx[weather['TMIN'].isna()]\n",
    "TAVG_idx"
   ]
  },
  {
   "cell_type": "markdown",
   "metadata": {},
   "source": [
    "### Sample output\n",
    "\n",
    "```\n",
    "array([ 3956,  3957,  3958,  3959,  3960,  3961,  3962,  3963,  3964,\n",
    "        3965,  3966,  3967,  3968,  3969,  3970,  3971,  3972,  3973,\n",
    "        3974,  3975,  3976,  3977,  3978,  3979,  3980,  3981,  3982,\n",
    "        3983,  3984,  3985,  4017,  4018,  4019,  4020,  4021,  4022,\n",
    "        4023,  4024,  4025,  4026,  4027,  4028,  4029,  4030,  4031,\n",
    "        4032,  4033,  4034,  4035,  4036,  4037,  4038,  4039,  4040,\n",
    "        4041,  4042,  4043,  4044,  4045,  4046,  4047, 13420])\n",
    "```"
   ]
  },
  {
   "cell_type": "markdown",
   "metadata": {},
   "source": [
    "You can replace the missing TAVG, TMAX, and TMIN with the average value for a particular station/airport. Because the consecutive rows of TAVG_idx are missing, replacing with a previous value would not be possible. Instead, replace it with the mean. Use the `groupby` function to aggregate the variables with a mean value."
   ]
  },
  {
   "cell_type": "code",
   "execution_count": 73,
   "metadata": {},
   "outputs": [
    {
     "data": {
      "text/html": [
       "<div>\n",
       "<style scoped>\n",
       "    .dataframe tbody tr th:only-of-type {\n",
       "        vertical-align: middle;\n",
       "    }\n",
       "\n",
       "    .dataframe tbody tr th {\n",
       "        vertical-align: top;\n",
       "    }\n",
       "\n",
       "    .dataframe thead th {\n",
       "        text-align: right;\n",
       "    }\n",
       "</style>\n",
       "<table border=\"1\" class=\"dataframe\">\n",
       "  <thead>\n",
       "    <tr style=\"text-align: right;\">\n",
       "      <th></th>\n",
       "      <th>airport</th>\n",
       "      <th>TAVG</th>\n",
       "      <th>TMAX</th>\n",
       "      <th>TMIN</th>\n",
       "    </tr>\n",
       "  </thead>\n",
       "  <tbody>\n",
       "    <tr>\n",
       "      <th>0</th>\n",
       "      <td>ATL</td>\n",
       "      <td>177.764513</td>\n",
       "      <td>232.630887</td>\n",
       "      <td>128.889923</td>\n",
       "    </tr>\n",
       "    <tr>\n",
       "      <th>1</th>\n",
       "      <td>CLT</td>\n",
       "      <td>168.911281</td>\n",
       "      <td>228.566265</td>\n",
       "      <td>107.873494</td>\n",
       "    </tr>\n",
       "  </tbody>\n",
       "</table>\n",
       "</div>"
      ],
      "text/plain": [
       "  airport        TAVG        TMAX        TMIN\n",
       "0     ATL  177.764513  232.630887  128.889923\n",
       "1     CLT  168.911281  228.566265  107.873494"
      ]
     },
     "execution_count": 73,
     "metadata": {},
     "output_type": "execute_result"
    }
   ],
   "source": [
    "weather_impute = weather.groupby(['airport']).agg({'TAVG': 'mean', 'TMAX': 'mean', 'TMIN': 'mean'}).reset_index()# Enter your code here\n",
    "weather_impute.head(2)"
   ]
  },
  {
   "cell_type": "markdown",
   "metadata": {},
   "source": [
    "Merge the mean data with the weather data."
   ]
  },
  {
   "cell_type": "code",
   "execution_count": 74,
   "metadata": {},
   "outputs": [],
   "source": [
    "# Recompute mean temperature values grouped by station and month\n",
    "weather_impute = weather.groupby(['STATION', 'MONTH']).agg({\n",
    "    'TAVG': 'mean',\n",
    "    'TMAX': 'mean',\n",
    "    'TMIN': 'mean'\n",
    "}).reset_index()\n",
    "\n",
    "### get the yesterday's data\n",
    "weather = pd.merge(weather, weather_impute,  how='left', left_on=['MONTH','STATION'], right_on = ['MONTH','STATION'])\\\n",
    ".rename(columns = {'TAVG_y':'TAVG_AVG',\n",
    "                   'TMAX_y':'TMAX_AVG', \n",
    "                   'TMIN_y':'TMIN_AVG',\n",
    "                   'TAVG_x':'TAVG',\n",
    "                   'TMAX_x':'TMAX', \n",
    "                   'TMIN_x':'TMIN'})"
   ]
  },
  {
   "cell_type": "markdown",
   "metadata": {},
   "source": [
    "Check for missing values again."
   ]
  },
  {
   "cell_type": "code",
   "execution_count": 75,
   "metadata": {},
   "outputs": [
    {
     "data": {
      "text/plain": [
       "STATION     0\n",
       "DATE        0\n",
       "AWND        0\n",
       "PRCP        0\n",
       "SNOW        0\n",
       "SNWD        0\n",
       "TAVG        0\n",
       "TMAX        0\n",
       "TMIN        0\n",
       "airport     0\n",
       "MONTH       0\n",
       "TAVG_AVG    0\n",
       "TMAX_AVG    0\n",
       "TMIN_AVG    0\n",
       "dtype: int64"
      ]
     },
     "execution_count": 75,
     "metadata": {},
     "output_type": "execute_result"
    }
   ],
   "source": [
    "weather.TAVG[TAVG_idx] = weather.TAVG_AVG[TAVG_idx]\n",
    "weather.TMAX[TMAX_idx] = weather.TMAX_AVG[TMAX_idx]\n",
    "weather.TMIN[TMIN_idx] = weather.TMIN_AVG[TMIN_idx]\n",
    "weather.isna().sum()"
   ]
  },
  {
   "cell_type": "markdown",
   "metadata": {},
   "source": [
    "Drop `STATION,MONTH,TAVG_AVG,TMAX_AVG,TMIN_AVG,TMAX,TMIN,SNWD` from the dataset"
   ]
  },
  {
   "cell_type": "code",
   "execution_count": 76,
   "metadata": {},
   "outputs": [],
   "source": [
    "weather.drop(columns=['STATION','MONTH','TAVG_AVG', 'TMAX_AVG', 'TMIN_AVG', 'TMAX' ,'TMIN', 'SNWD'],inplace=True)"
   ]
  },
  {
   "cell_type": "markdown",
   "metadata": {},
   "source": [
    "Add the origin and destination weather conditions to the dataset."
   ]
  },
  {
   "cell_type": "code",
   "execution_count": 77,
   "metadata": {},
   "outputs": [],
   "source": [
    "### Add origin weather conditions\n",
    "data_orig = pd.merge(data_orig, weather,  how='left', left_on=['FlightDate','Origin'], right_on = ['DATE','airport'])\\\n",
    ".rename(columns = {'AWND':'AWND_O','PRCP':'PRCP_O', 'TAVG':'TAVG_O', 'SNOW': 'SNOW_O'})\\\n",
    ".drop(columns=['DATE','airport'])\n",
    "\n",
    "### Add destination weather conditions\n",
    "data_orig = pd.merge(data_orig, weather,  how='left', left_on=['FlightDate','Dest'], right_on = ['DATE','airport'])\\\n",
    ".rename(columns = {'AWND':'AWND_D','PRCP':'PRCP_D', 'TAVG':'TAVG_D', 'SNOW': 'SNOW_D'})\\\n",
    ".drop(columns=['DATE','airport'])"
   ]
  },
  {
   "cell_type": "markdown",
   "metadata": {},
   "source": [
    "**Note**: It is always a good practice to check nulls/NAs after joins."
   ]
  },
  {
   "cell_type": "code",
   "execution_count": 78,
   "metadata": {},
   "outputs": [
    {
     "data": {
      "text/plain": [
       "0"
      ]
     },
     "execution_count": 78,
     "metadata": {},
     "output_type": "execute_result"
    }
   ],
   "source": [
    "sum(data.isna().any())"
   ]
  },
  {
   "cell_type": "code",
   "execution_count": 79,
   "metadata": {},
   "outputs": [
    {
     "data": {
      "text/plain": [
       "Index(['Year', 'Quarter', 'Month', 'DayofMonth', 'DayOfWeek', 'FlightDate',\n",
       "       'Reporting_Airline', 'Origin', 'OriginState', 'Dest', 'DestState',\n",
       "       'CRSDepTime', 'ArrDelay', 'ArrDelayMinutes', 'is_delay', 'Cancelled',\n",
       "       'Diverted', 'AirTime', 'Distance', 'DistanceGroup', 'DepHourofDay',\n",
       "       'is_holiday', 'AWND_O', 'PRCP_O', 'SNOW_O', 'TAVG_O', 'AWND_D',\n",
       "       'PRCP_D', 'SNOW_D', 'TAVG_D'],\n",
       "      dtype='object')"
      ]
     },
     "execution_count": 79,
     "metadata": {},
     "output_type": "execute_result"
    }
   ],
   "source": [
    "data_orig.columns"
   ]
  },
  {
   "cell_type": "markdown",
   "metadata": {},
   "source": [
    "Convert the categorical data into numerical data using one-hot encoding."
   ]
  },
  {
   "cell_type": "code",
   "execution_count": 80,
   "metadata": {},
   "outputs": [],
   "source": [
    "data = data_orig.copy()\n",
    "data = data[['is_delay', 'Year', 'Quarter', 'Month', 'DayofMonth', 'DayOfWeek', \n",
    "       'Reporting_Airline', 'Origin', 'Dest','Distance','DepHourofDay','is_holiday', 'AWND_O', 'PRCP_O',\n",
    "       'TAVG_O', 'AWND_D', 'PRCP_D', 'TAVG_D', 'SNOW_O', 'SNOW_D']]\n",
    "\n",
    "\n",
    "categorical_columns  = ['Year', 'Quarter', 'Month', 'DayofMonth', 'DayOfWeek', \n",
    "       'Reporting_Airline', 'Origin', 'Dest', 'is_holiday']\n",
    "for c in categorical_columns:\n",
    "    data[c] = data[c].astype('category')"
   ]
  },
  {
   "cell_type": "code",
   "execution_count": 81,
   "metadata": {},
   "outputs": [],
   "source": [
    "data_dummies = pd.get_dummies(\n",
    "    data[['Year', 'Quarter', 'Month', 'DayofMonth', 'DayOfWeek',\n",
    "          'Reporting_Airline', 'Origin', 'Dest', 'is_holiday']],\n",
    "    drop_first=True\n",
    ")\n",
    "\n",
    "# Concatenate dummy variables with the main dataset\n",
    "data = pd.concat([data, data_dummies], axis=1)\n",
    "\n",
    "# Remove the original categorical columns\n",
    "#categorical_columns.remove('is_delay')  # ensure target is not dropped\n",
    "data.drop(categorical_columns, axis=1, inplace=True)"
   ]
  },
  {
   "cell_type": "markdown",
   "metadata": {},
   "source": [
    "### Sample code\n",
    "\n",
    "```\n",
    "data_dummies = pd.get_dummies(data[['Year', 'Quarter', 'Month', 'DayofMonth', 'DayOfWeek', 'Reporting_Airline', 'Origin', 'Dest', 'is_holiday']], drop_first=True)\n",
    "data = pd.concat([data, data_dummies], axis = 1)\n",
    "categorical_columns.remove('is_delay')\n",
    "data.drop(categorical_columns,axis=1, inplace=True)\n",
    "```"
   ]
  },
  {
   "cell_type": "markdown",
   "metadata": {},
   "source": [
    "Check the new columns."
   ]
  },
  {
   "cell_type": "code",
   "execution_count": 82,
   "metadata": {},
   "outputs": [
    {
     "data": {
      "text/plain": [
       "Index(['is_delay', 'Distance', 'DepHourofDay', 'AWND_O', 'PRCP_O', 'TAVG_O',\n",
       "       'AWND_D', 'PRCP_D', 'TAVG_D', 'SNOW_O', 'SNOW_D', 'Year_2015',\n",
       "       'Year_2016', 'Year_2017', 'Year_2018', 'Quarter_2', 'Quarter_3',\n",
       "       'Quarter_4', 'Month_2', 'Month_3', 'Month_4', 'Month_5', 'Month_6',\n",
       "       'Month_7', 'Month_8', 'Month_9', 'Month_10', 'Month_11', 'Month_12',\n",
       "       'DayofMonth_2', 'DayofMonth_3', 'DayofMonth_4', 'DayofMonth_5',\n",
       "       'DayofMonth_6', 'DayofMonth_7', 'DayofMonth_8', 'DayofMonth_9',\n",
       "       'DayofMonth_10', 'DayofMonth_11', 'DayofMonth_12', 'DayofMonth_13',\n",
       "       'DayofMonth_14', 'DayofMonth_15', 'DayofMonth_16', 'DayofMonth_17',\n",
       "       'DayofMonth_18', 'DayofMonth_19', 'DayofMonth_20', 'DayofMonth_21',\n",
       "       'DayofMonth_22', 'DayofMonth_23', 'DayofMonth_24', 'DayofMonth_25',\n",
       "       'DayofMonth_26', 'DayofMonth_27', 'DayofMonth_28', 'DayofMonth_29',\n",
       "       'DayofMonth_30', 'DayofMonth_31', 'DayOfWeek_2', 'DayOfWeek_3',\n",
       "       'DayOfWeek_4', 'DayOfWeek_5', 'DayOfWeek_6', 'DayOfWeek_7',\n",
       "       'Reporting_Airline_DL', 'Reporting_Airline_OO', 'Reporting_Airline_UA',\n",
       "       'Reporting_Airline_WN', 'Origin_CLT', 'Origin_DEN', 'Origin_DFW',\n",
       "       'Origin_IAH', 'Origin_LAX', 'Origin_ORD', 'Origin_PHX', 'Origin_SFO',\n",
       "       'Dest_CLT', 'Dest_DEN', 'Dest_DFW', 'Dest_IAH', 'Dest_LAX', 'Dest_ORD',\n",
       "       'Dest_PHX', 'Dest_SFO', 'is_holiday_1'],\n",
       "      dtype='object')"
      ]
     },
     "execution_count": 82,
     "metadata": {},
     "output_type": "execute_result"
    }
   ],
   "source": [
    "data.columns"
   ]
  },
  {
   "cell_type": "markdown",
   "metadata": {},
   "source": [
    "### Sample output\n",
    "\n",
    "```\n",
    "Index(['Distance', 'DepHourofDay', 'is_delay', 'AWND_O', 'PRCP_O', 'TAVG_O',\n",
    "       'AWND_D', 'PRCP_D', 'TAVG_D', 'SNOW_O', 'SNOW_D', 'Year_2015',\n",
    "       'Year_2016', 'Year_2017', 'Year_2018', 'Quarter_2', 'Quarter_3',\n",
    "       'Quarter_4', 'Month_2', 'Month_3', 'Month_4', 'Month_5', 'Month_6',\n",
    "       'Month_7', 'Month_8', 'Month_9', 'Month_10', 'Month_11', 'Month_12',\n",
    "       'DayofMonth_2', 'DayofMonth_3', 'DayofMonth_4', 'DayofMonth_5',\n",
    "       'DayofMonth_6', 'DayofMonth_7', 'DayofMonth_8', 'DayofMonth_9',\n",
    "       'DayofMonth_10', 'DayofMonth_11', 'DayofMonth_12', 'DayofMonth_13',\n",
    "       'DayofMonth_14', 'DayofMonth_15', 'DayofMonth_16', 'DayofMonth_17',\n",
    "       'DayofMonth_18', 'DayofMonth_19', 'DayofMonth_20', 'DayofMonth_21',\n",
    "       'DayofMonth_22', 'DayofMonth_23', 'DayofMonth_24', 'DayofMonth_25',\n",
    "       'DayofMonth_26', 'DayofMonth_27', 'DayofMonth_28', 'DayofMonth_29',\n",
    "       'DayofMonth_30', 'DayofMonth_31', 'DayOfWeek_2', 'DayOfWeek_3',\n",
    "       'DayOfWeek_4', 'DayOfWeek_5', 'DayOfWeek_6', 'DayOfWeek_7',\n",
    "       'Reporting_Airline_DL', 'Reporting_Airline_OO', 'Reporting_Airline_UA',\n",
    "       'Reporting_Airline_WN', 'Origin_CLT', 'Origin_DEN', 'Origin_DFW',\n",
    "       'Origin_IAH', 'Origin_LAX', 'Origin_ORD', 'Origin_PHX', 'Origin_SFO',\n",
    "       'Dest_CLT', 'Dest_DEN', 'Dest_DFW', 'Dest_IAH', 'Dest_LAX', 'Dest_ORD',\n",
    "       'Dest_PHX', 'Dest_SFO', 'is_holiday_1'],\n",
    "      dtype='object')\n",
    "```"
   ]
  },
  {
   "cell_type": "markdown",
   "metadata": {},
   "source": [
    "Rename the `is_delay` column to `target` again. Use the same code as before."
   ]
  },
  {
   "cell_type": "code",
   "execution_count": 83,
   "metadata": {},
   "outputs": [],
   "source": [
    "data.rename(columns={'is_delay': 'target'}, inplace=True)# Enter your code here"
   ]
  },
  {
   "cell_type": "code",
   "execution_count": 84,
   "metadata": {},
   "outputs": [
    {
     "name": "stdout",
     "output_type": "stream",
     "text": [
      "combined_csv_v2.csv has been saved successfully.\n"
     ]
    }
   ],
   "source": [
    "# write code to Save the new combined csv file (combined_csv_v2.csv) to your local computer\n",
    "# note this combined file will be also used in part B\n",
    "data.to_csv('data/combined_csv_v2.csv', index=False)\n",
    "\n",
    "print('combined_csv_v2.csv has been saved successfully.')"
   ]
  },
  {
   "cell_type": "markdown",
   "metadata": {},
   "source": [
    "Create the training and testing sets again."
   ]
  },
  {
   "cell_type": "code",
   "execution_count": 85,
   "metadata": {},
   "outputs": [
    {
     "name": "stdout",
     "output_type": "stream",
     "text": [
      "Data successfully split:\n",
      "Training set: (1308472, 86)\n",
      "Validation set:  (163559, 86)\n",
      "Testing set:  (163559, 86)\n"
     ]
    }
   ],
   "source": [
    "train, test_and_validate = train_test_split(data, test_size=0.2, random_state=42, stratify=data['target'])\n",
    "test, validate = train_test_split(test_and_validate, test_size=0.5, random_state=42, stratify=test_and_validate['target'])\n",
    "\n",
    "print('Data successfully split:')\n",
    "print(f'Training set: {train.shape}')\n",
    "print(f'Validation set:  {validate.shape}')\n",
    "print(f'Testing set:  {test.shape}')"
   ]
  },
  {
   "cell_type": "markdown",
   "metadata": {},
   "source": [
    "### New baseline classifier\n",
    "\n",
    "Now, see if these new features add any predictive power to the model."
   ]
  },
  {
   "cell_type": "code",
   "execution_count": 86,
   "metadata": {
    "scrolled": true
   },
   "outputs": [
    {
     "name": "stdout",
     "output_type": "stream",
     "text": [
      "Training Set Evaluation\n",
      "Accuracy (Train): 0.7926\n",
      "\n",
      "Confusion Matrix (Train):\n",
      " [[1021743   12063]\n",
      " [ 259364   15302]]\n",
      "\n",
      "Classification Report (Train):\n",
      "               precision    recall  f1-score   support\n",
      "\n",
      "         0.0       0.80      0.99      0.88   1033806\n",
      "         1.0       0.56      0.06      0.10    274666\n",
      "\n",
      "    accuracy                           0.79   1308472\n",
      "   macro avg       0.68      0.52      0.49   1308472\n",
      "weighted avg       0.75      0.79      0.72   1308472\n",
      "\n",
      "\n",
      "Test Set Evaluation\n",
      "Accuracy (Test): 0.7923\n",
      "\n",
      "Confusion Matrix (Test):\n",
      " [[127721   1505]\n",
      " [ 32474   1859]]\n",
      "\n",
      "Classification Report (Test):\n",
      "               precision    recall  f1-score   support\n",
      "\n",
      "         0.0       0.80      0.99      0.88    129226\n",
      "         1.0       0.55      0.05      0.10     34333\n",
      "\n",
      "    accuracy                           0.79    163559\n",
      "   macro avg       0.67      0.52      0.49    163559\n",
      "weighted avg       0.75      0.79      0.72    163559\n",
      "\n"
     ]
    }
   ],
   "source": [
    "# Separate features and labels for each dataset\n",
    "X_train, y_train = train.drop('target', axis=1), train['target']\n",
    "X_validate, y_validate = validate.drop('target', axis=1), validate['target']\n",
    "X_test, y_test = test.drop('target', axis=1), test['target']\n",
    "\n",
    "# Instantiate another logistic regression model\n",
    "classifier2 = LogisticRegression(max_iter=1000, random_state=42)\n",
    "classifier2.fit(X_train, y_train)\n",
    "\n",
    "# ---- Training set predictions ----\n",
    "train_pred = classifier2.predict(X_train)\n",
    "\n",
    "print('Training Set Evaluation')\n",
    "print(f'Accuracy (Train): {accuracy_score(y_train, train_pred):.4f}')\n",
    "print('\\nConfusion Matrix (Train):\\n', confusion_matrix(y_train, train_pred))\n",
    "print('\\nClassification Report (Train):\\n', classification_report(y_train, train_pred))\n",
    "\n",
    "# ---- Test set predictions ----\n",
    "test_labels = y_test\n",
    "target_predicted = classifier2.predict(X_test)\n",
    "\n",
    "print('\\nTest Set Evaluation')\n",
    "print(f'Accuracy (Test): {accuracy_score(test_labels, target_predicted):.4f}')\n",
    "print('\\nConfusion Matrix (Test):\\n', confusion_matrix(test_labels, target_predicted))\n",
    "print('\\nClassification Report (Test):\\n', classification_report(test_labels, target_predicted))"
   ]
  },
  {
   "cell_type": "code",
   "execution_count": 87,
   "metadata": {},
   "outputs": [
    {
     "data": {
      "image/png": "[encoded data removed]",
      "text/plain": [
       "<Figure size 600x400 with 2 Axes>"
      ]
     },
     "metadata": {},
     "output_type": "display_data"
    }
   ],
   "source": [
    "# Enter your code here\n",
    "plot_confusion_matrix(test_labels, target_predicted)"
   ]
  },
  {
   "cell_type": "code",
   "execution_count": 88,
   "metadata": {},
   "outputs": [
    {
     "data": {
      "image/png": "[encoded data removed]",
      "text/plain": [
       "<Figure size 600x400 with 1 Axes>"
      ]
     },
     "metadata": {},
     "output_type": "display_data"
    }
   ],
   "source": [
    "plot_roc(test_labels, target_predicted)"
   ]
  },
  {
   "cell_type": "markdown",
   "metadata": {},
   "source": [
    "Perform the evaluaion as you have done with the previous model and plot/show the same metrics"
   ]
  },
  {
   "cell_type": "markdown",
   "metadata": {},
   "source": [
    "Question: did you notice a difference by adding the extra data on the results?"
   ]
  },
  {
   "cell_type": "markdown",
   "metadata": {},
   "source": [
    "Yes — but only a small improvement overall.  \n",
    "\n",
    "After adding holiday and weather-related features, the model’s accuracy rose slightly from 0.7901 → 0.7926, and the AUC increased from 0.501 → 0.521**.  \n",
    "This shows that the additional features provided a minor boost in discriminative power, but the model still struggles to correctly identify delayed flights.\n",
    "\n",
    "**Key observations:**\n",
    "- **Recall for the delayed class** improved marginally from 0.00 → 0.05–0.06.  \n",
    "  → The model is now capturing a few true delays, whereas before it captured none.  \n",
    "- **Precision and F1-score** for the delayed class increased slightly (F1 from 0.00 → 0.10).  \n",
    "- **Accuracy and macro averages** remain roughly the same, confirming that the dataset is still heavily imbalanced (most flights are on-time).\n",
    "\n",
    "**Interpretation:**\n",
    "While the holiday and weather variables add some useful context, their impact is limited because:\n",
    "- The class imbalance (far more on-time than delayed flights) still dominates the model’s learning.\n",
    "- Logistic regression’s linear nature restricts its ability to capture complex, nonlinear relationships (e.g., between weather and delays).\n",
    "\n",
    "**Conclusion:**\n",
    "Adding external data made the model slightly better, but not enough to meet business needs.  \n",
    "Future iterations should focus on:\n",
    "- Handling class imbalance (e.g., `class_weight='balanced'`, oversampling, SMOTE).  \n",
    "- Trying more expressive models like Random Forests or Gradient Boosted Trees to capture nonlinear interactions."
   ]
  },
  {
   "cell_type": "markdown",
   "metadata": {},
   "source": [
    "# Step 6: Using Tableau\n",
    "\n",
    "Use Tableau to load the combined_csv_v2.csv file and build a dashboard that show your understanding of the data and business problem. \n",
    "### what to do:\n",
    "1. Load the data into Tableau and build the dashboard\n",
    "2. Share the dashboard on your Tableau public account \n",
    "3. Copy the link of the shared dashboard below\n",
    "\n",
    "Note: The dashboard needs to be self explainable to others, so make it simple and add only the features that you feel heighlight the main question(s) of the prblem statement."
   ]
  },
  {
   "cell_type": "code",
   "execution_count": null,
   "metadata": {},
   "outputs": [],
   "source": [
    "# copy the link here"
   ]
  },
  {
   "cell_type": "markdown",
   "metadata": {},
   "source": [
    "## Conclusion\n",
    "\n",
    "You've now gone through at least a couple iterations of training and evaluating your model. It's time to wrap up this project and reflect on what you've learned and what types of steps you might take moving forward (assuming you had more time). Use the cell below to answer some of these and other relevant questions:\n",
    "\n",
    "1. Does your model performance meet your business goal? If not, what are some things you'd like to do differently if you had more time for tuning?\n",
    "2. To what extent did your model improve as you made changes to your dataset? What types of techniques did you employ throughout this project that you felt yielded the greatest improvements in your model?\n",
    "3. What were some of the biggest challenges you encountered throughout this project?\n",
    "4. What were the three most important things you learned about machine learning while completing this project?"
   ]
  },
  {
   "cell_type": "markdown",
   "metadata": {},
   "source": [
    "### 1. Did the model performance meet the business goal?\n",
    "No — the model did not yet meet the business objective of reliably identifying flights that are likely to be delayed.  \n",
    "Although the logistic regression achieved about 79% accuracy, this number is misleading due to the strong class imbalance (most flights are on time).  \n",
    "The model still misses the majority of actual delay cases (recall ≈ 0.05).  \n",
    "From a business perspective, this means customers would rarely be warned about real delays, limiting the usefulness of the predictive feature.\n",
    "\n",
    "If more time were available, I would:\n",
    "- Apply class balancing techniques such as `class_weight='balanced'`, oversampling (SMOTE), or undersampling.  \n",
    "- Experiment with nonlinear models (e.g., Random Forest, XGBoost) to better capture complex relationships among features like weather and time.  \n",
    "- Incorporate real-time weather data, airport congestion, and aircraft routing variables to strengthen predictive power.\n",
    "\n",
    "### 2. How did the model improve as changes were made?\n",
    "Adding holiday and weather features led to a small but measurable improvement:\n",
    "- AUC improved from 0.501 → 0.521.  \n",
    "- Recall for delays improved from 0.00 → 0.05–0.06.  \n",
    "- F1-score for delays rose from 0.00 → 0.10.  \n",
    "\n",
    "While modest, these gains show that incorporating external contextual data (holidays, temperature, precipitation, wind) provides incremental value.\n",
    "\n",
    "### 3. What were the biggest challenges?\n",
    "- **Severe class imbalance**: The model learned to favor on-time flights because they dominate the dataset.  \n",
    "- **Data complexity**: Many weather variables were missing or required aggregation and cleaning.  \n",
    "- **Feature scaling and encoding**: Managing hundreds of dummy variables from categorical encoding risked overfitting and increased training time.\n",
    "\n",
    "### 4. Key learnings from this project\n",
    "1. **Accuracy alone is not a reliable metric** — precision, recall, and AUC give a much clearer picture of real performance under imbalance.  \n",
    "2. **Feature engineering matters** — adding contextual variables (holidays, weather) can improve recall even for simple models.  \n",
    "3. **Iterative experimentation is essential** — refining data, encoding schemes, and evaluation strategy step by step reveals what truly affects performance.  \n",
    "\n",
    "Overall, this project demonstrated the complete machine-learning workflow — from problem framing and feature selection to evaluation and reflection — and highlighted how understanding the data distribution and business context is just as important as model tuning."
   ]
  }
 ],
 "metadata": {
  "kernelspec": {
   "display_name": "Python 3 (ipykernel)",
   "language": "python",
   "name": "python3"
  },
  "language_info": {
   "codemirror_mode": {
    "name": "ipython",
    "version": 3
   },
   "file_extension": ".py",
   "mimetype": "text/x-python",
   "name": "python",
   "nbconvert_exporter": "python",
   "pygments_lexer": "ipython3",
   "version": "3.11.13"
  }
 },
 "nbformat": 4,
 "nbformat_minor": 4
}
